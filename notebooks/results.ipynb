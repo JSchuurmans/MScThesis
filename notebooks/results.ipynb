{
 "cells": [
  {
   "cell_type": "code",
   "execution_count": 1,
   "metadata": {},
   "outputs": [],
   "source": [
    "import pandas as pd\n",
    "import os\n",
    "import sys"
   ]
  },
  {
   "cell_type": "markdown",
   "metadata": {},
   "source": [
    "# Results"
   ]
  },
  {
   "cell_type": "code",
   "execution_count": 2,
   "metadata": {},
   "outputs": [],
   "source": [
    "DIR = os.path.join('..','log')"
   ]
  },
  {
   "cell_type": "code",
   "execution_count": 3,
   "metadata": {},
   "outputs": [],
   "source": [
    "# MODELS\n",
    "\n",
    "# nb\n",
    "\n",
    "# svm_ft_ave\n",
    "# svm_ft_sum\n",
    "# svm_gl_ave\n",
    "# svm_gl_sum\n",
    "# svm_wv_ave\n",
    "# svm_wv_sum\n",
    "\n",
    "# LSTM_gl\n",
    "# BiLSTM_gl\n",
    "# LSTM_BB_gl\n",
    "# BiLSTM_BB_gl\n",
    "\n",
    "# h_nb\n",
    "\n",
    "# h_svm_ft_ave\n",
    "# h_svm_ft_sum\n",
    "# h_svm_gl_ave\n",
    "# h_svm_gl_sum\n",
    "# h_svm_wv_ave\n",
    "# h_svm_wv_sum\n",
    "\n",
    "# h_LSTM_gl\n",
    "# h_BiLSTM_gl\n",
    "# h_LSTM_BB_gl\n",
    "# h_BiLSTM_BB_gl"
   ]
  },
  {
   "cell_type": "markdown",
   "metadata": {},
   "source": [
    "## Braun"
   ]
  },
  {
   "cell_type": "code",
   "execution_count": 4,
   "metadata": {},
   "outputs": [],
   "source": [
    "DIR_B = os.path.join(DIR, 'braun')"
   ]
  },
  {
   "cell_type": "markdown",
   "metadata": {},
   "source": [
    "### Full"
   ]
  },
  {
   "cell_type": "code",
   "execution_count": null,
   "metadata": {},
   "outputs": [],
   "source": [
    "# retrieve results from model\n",
    "nb = pd.read_pickle(os.path.join(DIR_B,'NB','1550400750.9335818','results.pickle'))\n",
    "\n",
    "svm_ft_ave = pd.read_pickle(os.path.join(DIR_B,'SVM_ft_ave','1550421078.9964626','results.pickle'))\n",
    "svm_ft_sum = pd.read_pickle(os.path.join(DIR_B,'SVM_ft_sum','1550419444.2901323','results.pickle'))\n",
    "svm_gl_ave = pd.read_pickle(os.path.join(DIR_B,'SVM_gl_ave','1550419886.819051','results.pickle'))\n",
    "svm_gl_sum = pd.read_pickle(os.path.join(DIR_B,'SVM_gl_sum','1550419429.4049299','results.pickle'))\n",
    "svm_wv_ave = pd.read_pickle(os.path.join(DIR_B,'SVM_wv_ave','1550419765.7227283','results.pickle'))\n",
    "svm_wv_sum = pd.read_pickle(os.path.join(DIR_B,'SVM_wv_sum','1550419416.476974','results.pickle'))\n",
    "\n",
    "LSTM_gl = pd.read_pickle(os.path.join(DIR_B,'LSTM','1550325628.0549874','results.pickle'))\n",
    "BiLSTM_gl = pd.read_pickle(os.path.join(DIR_B,'BiLSTM','1550486362.4933956','results.pickle'))\n",
    "LSTM_BB_gl = pd.read_pickle(os.path.join(DIR_B,'LSTM_BB','1550311708.8217626','results.pickle'))\n",
    "BiLSTM_BB_gl = pd.read_pickle(os.path.join(DIR_B,'BiLSTM_BB','1550311822.8762727','results.pickle'))\n",
    "\n",
    "h_nb = pd.read_pickle(os.path.join(DIR_B,'h_NB','1550402549.471182','results.pickle'))\n",
    "h_svm_ft_ave = pd.read_pickle(os.path.join(DIR_B,'h_SVM_ft_ave','1550529700.2250593','results.pickle'))\n",
    "h_svm_ft_sum = pd.read_pickle(os.path.join(DIR_B,'h_SVM_ft_sum','1550529682.1473906','results.pickle'))\n",
    "h_svm_gl_ave = pd.read_pickle(os.path.join(DIR_B,'h_SVM_gl_ave','1550530852.448241','results.pickle'))\n",
    "h_svm_gl_sum = pd.read_pickle(os.path.join(DIR_B,'h_SVM_gl_sum','1550530850.427643','results.pickle'))\n",
    "h_svm_wv_ave = pd.read_pickle(os.path.join(DIR_B,'h_SVM_wv_ave','1550531064.6169825','results.pickle'))\n",
    "h_svm_wv_sum = pd.read_pickle(os.path.join(DIR_B,'h_SVM_wv_sum','1550531072.292462','results.pickle'))"
   ]
  },
  {
   "cell_type": "code",
   "execution_count": 51,
   "metadata": {
    "scrolled": true
   },
   "outputs": [
    {
     "data": {
      "text/html": [
       "<div>\n",
       "<style scoped>\n",
       "    .dataframe tbody tr th:only-of-type {\n",
       "        vertical-align: middle;\n",
       "    }\n",
       "\n",
       "    .dataframe tbody tr th {\n",
       "        vertical-align: top;\n",
       "    }\n",
       "\n",
       "    .dataframe thead th {\n",
       "        text-align: right;\n",
       "    }\n",
       "</style>\n",
       "<table border=\"1\" class=\"dataframe\">\n",
       "  <thead>\n",
       "    <tr style=\"text-align: right;\">\n",
       "      <th></th>\n",
       "      <th>model</th>\n",
       "      <th>F1_train</th>\n",
       "      <th>F1_test</th>\n",
       "      <th>P_train</th>\n",
       "      <th>P_test</th>\n",
       "      <th>R_train</th>\n",
       "      <th>R_test</th>\n",
       "    </tr>\n",
       "  </thead>\n",
       "  <tbody>\n",
       "    <tr>\n",
       "      <th>0</th>\n",
       "      <td>h_LSTM</td>\n",
       "      <td>1.0</td>\n",
       "      <td>0.614778</td>\n",
       "      <td>1.0</td>\n",
       "      <td>0.668735</td>\n",
       "      <td>1.0</td>\n",
       "      <td>0.605968</td>\n",
       "    </tr>\n",
       "  </tbody>\n",
       "</table>\n",
       "</div>"
      ],
      "text/plain": [
       "    model  F1_train   F1_test  P_train    P_test  R_train    R_test\n",
       "0  h_LSTM       1.0  0.614778      1.0  0.668735      1.0  0.605968"
      ]
     },
     "execution_count": 51,
     "metadata": {},
     "output_type": "execute_result"
    }
   ],
   "source": [
    "h_LSTM_gl = pd.read_csv(os.path.join(DIR_B,'h_LSTM','1550531621.821716','results.csv')).drop('Unnamed: 0', axis=1)\n",
    "h_BiLSTM_gl = pd.read_csv(os.path.join(DIR_B,'h_BiLSTM','1550532003.3515894','results.csv')).drop('Unnamed: 0', axis=1)\n",
    "h_LSTM_gl\n",
    "# h_LSTM_BB_gl = pd.read_pickle(os.path.join(DIR_B,'h_LSTM_BB','1550243466.050011','results.pickle'))\n",
    "# h_BiLSTM_BB_gl = pd.read_pickle(os.path.join(DIR_B,'h_BiLSTM_BB','1550507292.1860704','results.pickle'))"
   ]
  },
  {
   "cell_type": "code",
   "execution_count": 52,
   "metadata": {},
   "outputs": [],
   "source": [
    "res_braun_full = pd.concat([nb, \n",
    "                           svm_ft_ave, svm_ft_sum, svm_gl_ave, svm_gl_sum, svm_wv_ave, svm_wv_sum,\n",
    "                           LSTM_gl, BiLSTM_gl, LSTM_BB_gl, BiLSTM_BB_gl,\n",
    "                           h_nb,\n",
    "                           h_svm_ft_ave, h_svm_ft_sum, \n",
    "                            h_svm_gl_ave, h_svm_gl_sum, \n",
    "                            h_svm_wv_ave, h_svm_wv_sum,\n",
    "                           h_LSTM_gl, h_BiLSTM_gl])"
   ]
  },
  {
   "cell_type": "code",
   "execution_count": 54,
   "metadata": {},
   "outputs": [
    {
     "name": "stdout",
     "output_type": "stream",
     "text": [
      "\\begin{tabular}{lrrrrrr}\n",
      "\\toprule\n",
      "{} &  F1\\_test &  F1\\_train &  P\\_test &  P\\_train &  R\\_test &  R\\_train \\\\\n",
      "model        &          &           &         &          &         &          \\\\\n",
      "\\midrule\n",
      "NB           &    0.541 &     0.575 &   0.549 &    0.571 &   0.547 &    0.582 \\\\\n",
      "SVM\\_ft\\_ave   &    0.689 &     0.975 &   0.733 &    0.968 &   0.686 &    0.988 \\\\\n",
      "SVM\\_ft\\_sum   &    0.657 &     0.997 &   0.678 &    0.997 &   0.650 &    0.998 \\\\\n",
      "SVM\\_gl\\_ave   &    0.752 &     0.999 &   0.796 &    0.998 &   0.736 &    0.999 \\\\\n",
      "SVM\\_gl\\_sum   &    0.680 &     0.993 &   0.728 &    0.993 &   0.657 &    0.994 \\\\\n",
      "SVM\\_wv\\_ave   &    0.705 &     0.997 &   0.750 &    0.997 &   0.687 &    0.998 \\\\\n",
      "SVM\\_wv\\_sum   &    0.673 &     0.997 &   0.736 &    0.997 &   0.650 &    0.998 \\\\\n",
      "LSTM         &    0.586 &     0.929 &   0.708 &    0.925 &   0.584 &    0.933 \\\\\n",
      "BiLSTM       &    0.575 &     1.000 &   0.624 &    1.000 &   0.575 &    1.000 \\\\\n",
      "LSTM\\_BB      &    0.552 &     0.739 &   0.556 &    0.751 &   0.560 &    0.756 \\\\\n",
      "BiLSTM\\_BB    &    0.581 &     0.775 &   0.640 &    0.756 &   0.575 &    0.799 \\\\\n",
      "h\\_NB         &    0.614 &     0.706 &   0.685 &    0.698 &   0.609 &    0.716 \\\\\n",
      "h\\_SVM\\_ft\\_ave &    0.782 &     0.999 &   0.863 &    0.998 &   0.772 &    0.999 \\\\\n",
      "h\\_SVM\\_ft\\_sum &    0.642 &     0.999 &   0.651 &    0.998 &   0.646 &    0.999 \\\\\n",
      "h\\_SVM\\_gl\\_ave &    0.654 &     0.999 &   0.676 &    0.998 &   0.654 &    0.999 \\\\\n",
      "h\\_SVM\\_gl\\_sum &    0.658 &     0.997 &   0.713 &    0.997 &   0.640 &    0.998 \\\\\n",
      "h\\_SVM\\_wv\\_ave &    0.703 &     0.997 &   0.707 &    0.997 &   0.705 &    0.998 \\\\\n",
      "h\\_SVM\\_wv\\_sum &    0.706 &     0.997 &   0.821 &    0.997 &   0.670 &    0.998 \\\\\n",
      "h\\_LSTM       &    0.615 &     1.000 &   0.669 &    1.000 &   0.606 &    1.000 \\\\\n",
      "h\\_BiLSTM     &    0.645 &     1.000 &   0.672 &    1.000 &   0.643 &    1.000 \\\\\n",
      "\\bottomrule\n",
      "\\end{tabular}\n",
      "\n"
     ]
    },
    {
     "data": {
      "text/html": [
       "<div>\n",
       "<style scoped>\n",
       "    .dataframe tbody tr th:only-of-type {\n",
       "        vertical-align: middle;\n",
       "    }\n",
       "\n",
       "    .dataframe tbody tr th {\n",
       "        vertical-align: top;\n",
       "    }\n",
       "\n",
       "    .dataframe thead th {\n",
       "        text-align: right;\n",
       "    }\n",
       "</style>\n",
       "<table border=\"1\" class=\"dataframe\">\n",
       "  <thead>\n",
       "    <tr style=\"text-align: right;\">\n",
       "      <th></th>\n",
       "      <th>F1_test</th>\n",
       "      <th>F1_train</th>\n",
       "      <th>P_test</th>\n",
       "      <th>P_train</th>\n",
       "      <th>R_test</th>\n",
       "      <th>R_train</th>\n",
       "    </tr>\n",
       "    <tr>\n",
       "      <th>model</th>\n",
       "      <th></th>\n",
       "      <th></th>\n",
       "      <th></th>\n",
       "      <th></th>\n",
       "      <th></th>\n",
       "      <th></th>\n",
       "    </tr>\n",
       "  </thead>\n",
       "  <tbody>\n",
       "    <tr>\n",
       "      <th>NB</th>\n",
       "      <td>0.541</td>\n",
       "      <td>0.575</td>\n",
       "      <td>0.549</td>\n",
       "      <td>0.571</td>\n",
       "      <td>0.547</td>\n",
       "      <td>0.582</td>\n",
       "    </tr>\n",
       "    <tr>\n",
       "      <th>SVM_ft_ave</th>\n",
       "      <td>0.689</td>\n",
       "      <td>0.975</td>\n",
       "      <td>0.733</td>\n",
       "      <td>0.968</td>\n",
       "      <td>0.686</td>\n",
       "      <td>0.988</td>\n",
       "    </tr>\n",
       "    <tr>\n",
       "      <th>SVM_ft_sum</th>\n",
       "      <td>0.657</td>\n",
       "      <td>0.997</td>\n",
       "      <td>0.678</td>\n",
       "      <td>0.997</td>\n",
       "      <td>0.650</td>\n",
       "      <td>0.998</td>\n",
       "    </tr>\n",
       "    <tr>\n",
       "      <th>SVM_gl_ave</th>\n",
       "      <td>0.752</td>\n",
       "      <td>0.999</td>\n",
       "      <td>0.796</td>\n",
       "      <td>0.998</td>\n",
       "      <td>0.736</td>\n",
       "      <td>0.999</td>\n",
       "    </tr>\n",
       "    <tr>\n",
       "      <th>SVM_gl_sum</th>\n",
       "      <td>0.680</td>\n",
       "      <td>0.993</td>\n",
       "      <td>0.728</td>\n",
       "      <td>0.993</td>\n",
       "      <td>0.657</td>\n",
       "      <td>0.994</td>\n",
       "    </tr>\n",
       "    <tr>\n",
       "      <th>SVM_wv_ave</th>\n",
       "      <td>0.705</td>\n",
       "      <td>0.997</td>\n",
       "      <td>0.750</td>\n",
       "      <td>0.997</td>\n",
       "      <td>0.687</td>\n",
       "      <td>0.998</td>\n",
       "    </tr>\n",
       "    <tr>\n",
       "      <th>SVM_wv_sum</th>\n",
       "      <td>0.673</td>\n",
       "      <td>0.997</td>\n",
       "      <td>0.736</td>\n",
       "      <td>0.997</td>\n",
       "      <td>0.650</td>\n",
       "      <td>0.998</td>\n",
       "    </tr>\n",
       "    <tr>\n",
       "      <th>LSTM</th>\n",
       "      <td>0.586</td>\n",
       "      <td>0.929</td>\n",
       "      <td>0.708</td>\n",
       "      <td>0.925</td>\n",
       "      <td>0.584</td>\n",
       "      <td>0.933</td>\n",
       "    </tr>\n",
       "    <tr>\n",
       "      <th>BiLSTM</th>\n",
       "      <td>0.575</td>\n",
       "      <td>1.000</td>\n",
       "      <td>0.624</td>\n",
       "      <td>1.000</td>\n",
       "      <td>0.575</td>\n",
       "      <td>1.000</td>\n",
       "    </tr>\n",
       "    <tr>\n",
       "      <th>LSTM_BB</th>\n",
       "      <td>0.552</td>\n",
       "      <td>0.739</td>\n",
       "      <td>0.556</td>\n",
       "      <td>0.751</td>\n",
       "      <td>0.560</td>\n",
       "      <td>0.756</td>\n",
       "    </tr>\n",
       "    <tr>\n",
       "      <th>BiLSTM_BB</th>\n",
       "      <td>0.581</td>\n",
       "      <td>0.775</td>\n",
       "      <td>0.640</td>\n",
       "      <td>0.756</td>\n",
       "      <td>0.575</td>\n",
       "      <td>0.799</td>\n",
       "    </tr>\n",
       "    <tr>\n",
       "      <th>h_NB</th>\n",
       "      <td>0.614</td>\n",
       "      <td>0.706</td>\n",
       "      <td>0.685</td>\n",
       "      <td>0.698</td>\n",
       "      <td>0.609</td>\n",
       "      <td>0.716</td>\n",
       "    </tr>\n",
       "    <tr>\n",
       "      <th>h_SVM_ft_ave</th>\n",
       "      <td>0.782</td>\n",
       "      <td>0.999</td>\n",
       "      <td>0.863</td>\n",
       "      <td>0.998</td>\n",
       "      <td>0.772</td>\n",
       "      <td>0.999</td>\n",
       "    </tr>\n",
       "    <tr>\n",
       "      <th>h_SVM_ft_sum</th>\n",
       "      <td>0.642</td>\n",
       "      <td>0.999</td>\n",
       "      <td>0.651</td>\n",
       "      <td>0.998</td>\n",
       "      <td>0.646</td>\n",
       "      <td>0.999</td>\n",
       "    </tr>\n",
       "    <tr>\n",
       "      <th>h_SVM_gl_ave</th>\n",
       "      <td>0.654</td>\n",
       "      <td>0.999</td>\n",
       "      <td>0.676</td>\n",
       "      <td>0.998</td>\n",
       "      <td>0.654</td>\n",
       "      <td>0.999</td>\n",
       "    </tr>\n",
       "    <tr>\n",
       "      <th>h_SVM_gl_sum</th>\n",
       "      <td>0.658</td>\n",
       "      <td>0.997</td>\n",
       "      <td>0.713</td>\n",
       "      <td>0.997</td>\n",
       "      <td>0.640</td>\n",
       "      <td>0.998</td>\n",
       "    </tr>\n",
       "    <tr>\n",
       "      <th>h_SVM_wv_ave</th>\n",
       "      <td>0.703</td>\n",
       "      <td>0.997</td>\n",
       "      <td>0.707</td>\n",
       "      <td>0.997</td>\n",
       "      <td>0.705</td>\n",
       "      <td>0.998</td>\n",
       "    </tr>\n",
       "    <tr>\n",
       "      <th>h_SVM_wv_sum</th>\n",
       "      <td>0.706</td>\n",
       "      <td>0.997</td>\n",
       "      <td>0.821</td>\n",
       "      <td>0.997</td>\n",
       "      <td>0.670</td>\n",
       "      <td>0.998</td>\n",
       "    </tr>\n",
       "    <tr>\n",
       "      <th>h_LSTM</th>\n",
       "      <td>0.615</td>\n",
       "      <td>1.000</td>\n",
       "      <td>0.669</td>\n",
       "      <td>1.000</td>\n",
       "      <td>0.606</td>\n",
       "      <td>1.000</td>\n",
       "    </tr>\n",
       "    <tr>\n",
       "      <th>h_BiLSTM</th>\n",
       "      <td>0.645</td>\n",
       "      <td>1.000</td>\n",
       "      <td>0.672</td>\n",
       "      <td>1.000</td>\n",
       "      <td>0.643</td>\n",
       "      <td>1.000</td>\n",
       "    </tr>\n",
       "  </tbody>\n",
       "</table>\n",
       "</div>"
      ],
      "text/plain": [
       "              F1_test  F1_train  P_test  P_train  R_test  R_train\n",
       "model                                                            \n",
       "NB              0.541     0.575   0.549    0.571   0.547    0.582\n",
       "SVM_ft_ave      0.689     0.975   0.733    0.968   0.686    0.988\n",
       "SVM_ft_sum      0.657     0.997   0.678    0.997   0.650    0.998\n",
       "SVM_gl_ave      0.752     0.999   0.796    0.998   0.736    0.999\n",
       "SVM_gl_sum      0.680     0.993   0.728    0.993   0.657    0.994\n",
       "SVM_wv_ave      0.705     0.997   0.750    0.997   0.687    0.998\n",
       "SVM_wv_sum      0.673     0.997   0.736    0.997   0.650    0.998\n",
       "LSTM            0.586     0.929   0.708    0.925   0.584    0.933\n",
       "BiLSTM          0.575     1.000   0.624    1.000   0.575    1.000\n",
       "LSTM_BB         0.552     0.739   0.556    0.751   0.560    0.756\n",
       "BiLSTM_BB       0.581     0.775   0.640    0.756   0.575    0.799\n",
       "h_NB            0.614     0.706   0.685    0.698   0.609    0.716\n",
       "h_SVM_ft_ave    0.782     0.999   0.863    0.998   0.772    0.999\n",
       "h_SVM_ft_sum    0.642     0.999   0.651    0.998   0.646    0.999\n",
       "h_SVM_gl_ave    0.654     0.999   0.676    0.998   0.654    0.999\n",
       "h_SVM_gl_sum    0.658     0.997   0.713    0.997   0.640    0.998\n",
       "h_SVM_wv_ave    0.703     0.997   0.707    0.997   0.705    0.998\n",
       "h_SVM_wv_sum    0.706     0.997   0.821    0.997   0.670    0.998\n",
       "h_LSTM          0.615     1.000   0.669    1.000   0.606    1.000\n",
       "h_BiLSTM        0.645     1.000   0.672    1.000   0.643    1.000"
      ]
     },
     "execution_count": 54,
     "metadata": {},
     "output_type": "execute_result"
    }
   ],
   "source": [
    "rbf = res_braun_full.set_index('model').round(3)[['F1_test', 'F1_train','P_test','P_train','R_test','R_train']]\n",
    "print(rbf.to_latex())\n",
    "rbf"
   ]
  },
  {
   "cell_type": "markdown",
   "metadata": {},
   "source": [
    "#### Cross validation"
   ]
  },
  {
   "cell_type": "code",
   "execution_count": 13,
   "metadata": {},
   "outputs": [],
   "source": [
    "DIR_CV = os.path.join(DIR_B, 'cv')"
   ]
  },
  {
   "cell_type": "code",
   "execution_count": 67,
   "metadata": {},
   "outputs": [],
   "source": [
    "cv_lstm_gl = pd.read_pickle(os.path.join(DIR_CV,'LSTM','1550309237.9649193','df_res_cv.pickle'))\n",
    "cv_bilstm_gl = pd.read_pickle(os.path.join(DIR_CV,'BiLSTM','1550309234.6299407','df_res_cv.pickle'))\n",
    "cv_lstm_bb_gl = pd.read_pickle(os.path.join(DIR_CV,'LSTM_BB','1550243466.050011','df_res_cv.pickle'))\n",
    "cv_bilstm_bb_gl = pd.read_pickle(os.path.join(DIR_CV,'BiLSTM_BB','1550244682.9822152','df_res_cv.pickle'))\n",
    "\n",
    "cv_h_lstm_gl = pd.read_csv(os.path.join(DIR_CV,'h_LSTM','1550531621.821716','df_res_cv.csv'))\n",
    "cv_h_bilstm_gl = pd.read_csv(os.path.join(DIR_CV,'h_BiLSTM','1550532003.3515894','df_res_cv.csv'))\n",
    "# cv_h_lstm_bb_gl = pd.read_pickle(os.path.join(DIR_CV,'h_LSTM_BB','1550243466.050011','df_res_cv.pickle'))\n",
    "# cv_h_bilstm_bb_gl = pd.read_pickle(os.path.join(DIR_CV,'h_BiLSTM_BB','1550244682.9822152','df_res_cv.pickle'))"
   ]
  },
  {
   "cell_type": "code",
   "execution_count": null,
   "metadata": {},
   "outputs": [],
   "source": [
    "# per model\n",
    "# table to latex\n",
    "# heatmap"
   ]
  },
  {
   "cell_type": "code",
   "execution_count": 22,
   "metadata": {},
   "outputs": [
    {
     "name": "stdout",
     "output_type": "stream",
     "text": [
      "LSTM\n",
      "0.5589698741732945\n",
      "\\begin{tabular}{lrrrr}\n",
      "\\toprule\n",
      "word\\_dim &  50.0  &  100.0 &  200.0 &  300.0 \\\\\n",
      "h\\_dim &        &        &        &        \\\\\n",
      "\\midrule\n",
      "25.0  &  0.238 &  0.214 &  0.394 &  0.360 \\\\\n",
      "50.0  &  0.313 &  0.359 &  0.362 &  0.517 \\\\\n",
      "75.0  &  0.345 &  0.395 &  0.452 &  0.524 \\\\\n",
      "100.0 &  0.365 &  0.398 &  0.523 &  0.542 \\\\\n",
      "150.0 &  0.399 &  0.452 &  0.482 &  0.528 \\\\\n",
      "200.0 &  0.382 &  0.471 &  0.495 &  0.537 \\\\\n",
      "300.0 &  0.430 &  0.448 &  0.448 &  0.559 \\\\\n",
      "\\bottomrule\n",
      "\\end{tabular}\n",
      "\n"
     ]
    }
   ],
   "source": [
    "print('LSTM')\n",
    "print(max(cv_lstm_gl['F1_valid']))\n",
    "print(cv_lstm_gl['F1_valid'].unstack().T.round(3).to_latex())\n",
    "# https://pandas.pydata.org/pandas-docs/stable/reference/api/pandas.DataFrame.to_latex.html"
   ]
  },
  {
   "cell_type": "code",
   "execution_count": 23,
   "metadata": {},
   "outputs": [
    {
     "name": "stdout",
     "output_type": "stream",
     "text": [
      "0.6274761709464367\n",
      "\\begin{tabular}{lrrrr}\n",
      "\\toprule\n",
      "word\\_dim &  50.0  &  100.0 &  200.0 &  300.0 \\\\\n",
      "h\\_dim &        &        &        &        \\\\\n",
      "\\midrule\n",
      "25.0  &  0.342 &  0.351 &  0.490 &  0.449 \\\\\n",
      "50.0  &  0.370 &  0.391 &  0.454 &  0.627 \\\\\n",
      "75.0  &  0.413 &  0.519 &  0.540 &  0.534 \\\\\n",
      "100.0 &  0.430 &  0.469 &  0.514 &  0.564 \\\\\n",
      "150.0 &  0.477 &  0.551 &  0.496 &  0.519 \\\\\n",
      "200.0 &  0.469 &  0.537 &  0.501 &  0.484 \\\\\n",
      "300.0 &  0.433 &  0.458 &  0.479 &  0.490 \\\\\n",
      "\\bottomrule\n",
      "\\end{tabular}\n",
      "\n"
     ]
    }
   ],
   "source": [
    "print(max(cv_bilstm_gl['F1_valid']))\n",
    "print(cv_bilstm_gl['F1_valid'].unstack().T.round(3).to_latex())"
   ]
  },
  {
   "cell_type": "code",
   "execution_count": 24,
   "metadata": {},
   "outputs": [
    {
     "name": "stdout",
     "output_type": "stream",
     "text": [
      "0.4251800926320184\n",
      "\\begin{tabular}{lrrrr}\n",
      "\\toprule\n",
      "word\\_dim &  50.0  &  100.0 &  200.0 &  300.0 \\\\\n",
      "h\\_dim &        &        &        &        \\\\\n",
      "\\midrule\n",
      "25.0  &  0.281 &  0.249 &  0.299 &  0.299 \\\\\n",
      "50.0  &  0.262 &  0.286 &  0.310 &  0.424 \\\\\n",
      "75.0  &  0.268 &  0.316 &  0.306 &  0.400 \\\\\n",
      "100.0 &  0.266 &  0.315 &  0.360 &  0.388 \\\\\n",
      "150.0 &  0.266 &  0.327 &  0.354 &  0.404 \\\\\n",
      "200.0 &  0.265 &  0.312 &  0.420 &  0.415 \\\\\n",
      "300.0 &  0.258 &  0.319 &  0.425 &  0.417 \\\\\n",
      "\\bottomrule\n",
      "\\end{tabular}\n",
      "\n"
     ]
    }
   ],
   "source": [
    "print(max(cv_lstm_bb_gl['F1_valid']))\n",
    "print(cv_lstm_bb_gl['F1_valid'].unstack().T.round(3).to_latex())"
   ]
  },
  {
   "cell_type": "code",
   "execution_count": 25,
   "metadata": {},
   "outputs": [
    {
     "name": "stdout",
     "output_type": "stream",
     "text": [
      "0.39964993857074604\n",
      "\\begin{tabular}{lrrrr}\n",
      "\\toprule\n",
      "word\\_dim &  50.0  &  100.0 &  200.0 &  300.0 \\\\\n",
      "h\\_dim &        &        &        &        \\\\\n",
      "\\midrule\n",
      "25.0  &  0.358 &  0.296 &  0.303 &  0.319 \\\\\n",
      "50.0  &  0.315 &  0.312 &  0.338 &  0.383 \\\\\n",
      "75.0  &  0.316 &  0.350 &  0.359 &  0.397 \\\\\n",
      "100.0 &  0.338 &  0.373 &  0.364 &  0.365 \\\\\n",
      "150.0 &  0.314 &  0.345 &  0.378 &  0.369 \\\\\n",
      "200.0 &  0.286 &  0.365 &  0.369 &  0.400 \\\\\n",
      "300.0 &  0.328 &  0.332 &  0.351 &  0.387 \\\\\n",
      "\\bottomrule\n",
      "\\end{tabular}\n",
      "\n"
     ]
    }
   ],
   "source": [
    "print(max(cv_bilstm_bb_gl['F1_valid']))\n",
    "print(cv_bilstm_bb_gl['F1_valid'].unstack().T.round(3).to_latex())"
   ]
  },
  {
   "cell_type": "code",
   "execution_count": 71,
   "metadata": {},
   "outputs": [
    {
     "name": "stdout",
     "output_type": "stream",
     "text": [
      "0.5911050026071034\n",
      "\\begin{tabular}{lrrrr}\n",
      "\\toprule\n",
      "{} &  word\\_dim &  h\\_dim &  F1\\_train &  F1\\_valid \\\\\n",
      "\\midrule\n",
      "0  &      50.0 &   25.0 &     0.285 &     0.214 \\\\\n",
      "1  &      50.0 &   50.0 &     0.462 &     0.290 \\\\\n",
      "2  &      50.0 &   75.0 &     0.578 &     0.343 \\\\\n",
      "3  &      50.0 &  100.0 &     0.607 &     0.405 \\\\\n",
      "4  &      50.0 &  150.0 &     0.790 &     0.353 \\\\\n",
      "5  &      50.0 &  200.0 &     0.853 &     0.438 \\\\\n",
      "6  &      50.0 &  300.0 &     0.943 &     0.461 \\\\\n",
      "7  &     100.0 &   25.0 &     0.384 &     0.249 \\\\\n",
      "8  &     100.0 &   50.0 &     0.612 &     0.357 \\\\\n",
      "9  &     100.0 &   75.0 &     0.604 &     0.367 \\\\\n",
      "10 &     100.0 &  100.0 &     0.828 &     0.408 \\\\\n",
      "11 &     100.0 &  150.0 &     0.956 &     0.488 \\\\\n",
      "12 &     100.0 &  200.0 &     0.898 &     0.426 \\\\\n",
      "13 &     100.0 &  300.0 &     1.000 &     0.463 \\\\\n",
      "14 &     200.0 &   25.0 &     0.595 &     0.350 \\\\\n",
      "15 &     200.0 &   50.0 &     0.825 &     0.414 \\\\\n",
      "16 &     200.0 &   75.0 &     1.000 &     0.413 \\\\\n",
      "17 &     200.0 &  100.0 &     1.000 &     0.534 \\\\\n",
      "18 &     200.0 &  150.0 &     1.000 &     0.591 \\\\\n",
      "19 &     200.0 &  200.0 &     1.000 &     0.526 \\\\\n",
      "20 &     200.0 &  300.0 &     1.000 &     0.516 \\\\\n",
      "21 &     300.0 &   25.0 &     0.713 &     0.411 \\\\\n",
      "22 &     300.0 &   50.0 &     0.863 &     0.472 \\\\\n",
      "23 &     300.0 &   75.0 &     0.959 &     0.457 \\\\\n",
      "24 &     300.0 &  100.0 &     1.000 &     0.497 \\\\\n",
      "25 &     300.0 &  150.0 &     0.995 &     0.507 \\\\\n",
      "26 &     300.0 &  200.0 &     1.000 &     0.515 \\\\\n",
      "27 &     300.0 &  300.0 &     1.000 &     0.528 \\\\\n",
      "\\bottomrule\n",
      "\\end{tabular}\n",
      "\n"
     ]
    }
   ],
   "source": [
    "print(max(cv_h_lstm_gl['F1_valid']))\n",
    "print(cv_h_lstm_gl.round(3).to_latex())"
   ]
  },
  {
   "cell_type": "code",
   "execution_count": 70,
   "metadata": {},
   "outputs": [
    {
     "name": "stdout",
     "output_type": "stream",
     "text": [
      "0.5753738452793075\n",
      "\\begin{tabular}{lrrrr}\n",
      "\\toprule\n",
      "{} &  word\\_dim &  h\\_dim &  F1\\_train &  F1\\_valid \\\\\n",
      "\\midrule\n",
      "0  &      50.0 &   25.0 &     0.513 &     0.275 \\\\\n",
      "1  &      50.0 &   50.0 &     0.619 &     0.360 \\\\\n",
      "2  &      50.0 &   75.0 &     0.866 &     0.389 \\\\\n",
      "3  &      50.0 &  100.0 &     0.906 &     0.400 \\\\\n",
      "4  &      50.0 &  150.0 &     0.957 &     0.494 \\\\\n",
      "5  &      50.0 &  200.0 &     1.000 &     0.544 \\\\\n",
      "6  &      50.0 &  300.0 &     0.964 &     0.559 \\\\\n",
      "7  &     100.0 &   25.0 &     0.646 &     0.368 \\\\\n",
      "8  &     100.0 &   50.0 &     0.783 &     0.436 \\\\\n",
      "9  &     100.0 &   75.0 &     1.000 &     0.483 \\\\\n",
      "10 &     100.0 &  100.0 &     1.000 &     0.460 \\\\\n",
      "11 &     100.0 &  150.0 &     1.000 &     0.495 \\\\\n",
      "12 &     100.0 &  200.0 &     1.000 &     0.557 \\\\\n",
      "13 &     100.0 &  300.0 &     1.000 &     0.474 \\\\\n",
      "14 &     200.0 &   25.0 &     0.742 &     0.431 \\\\\n",
      "15 &     200.0 &   50.0 &     1.000 &     0.500 \\\\\n",
      "16 &     200.0 &   75.0 &     1.000 &     0.491 \\\\\n",
      "17 &     200.0 &  100.0 &     1.000 &     0.539 \\\\\n",
      "18 &     200.0 &  150.0 &     1.000 &     0.549 \\\\\n",
      "19 &     200.0 &  200.0 &     1.000 &     0.519 \\\\\n",
      "20 &     200.0 &  300.0 &     1.000 &     0.468 \\\\\n",
      "21 &     300.0 &   25.0 &     0.840 &     0.481 \\\\\n",
      "22 &     300.0 &   50.0 &     1.000 &     0.541 \\\\\n",
      "23 &     300.0 &   75.0 &     1.000 &     0.571 \\\\\n",
      "24 &     300.0 &  100.0 &     1.000 &     0.556 \\\\\n",
      "25 &     300.0 &  150.0 &     0.957 &     0.575 \\\\\n",
      "26 &     300.0 &  200.0 &     1.000 &     0.525 \\\\\n",
      "27 &     300.0 &  300.0 &     1.000 &     0.548 \\\\\n",
      "\\bottomrule\n",
      "\\end{tabular}\n",
      "\n"
     ]
    }
   ],
   "source": [
    "print(max(cv_h_bilstm_gl['F1_valid']))\n",
    "print(cv_h_bilstm_gl.round(3).to_latex())"
   ]
  },
  {
   "cell_type": "markdown",
   "metadata": {},
   "source": [
    "### Intents"
   ]
  },
  {
   "cell_type": "code",
   "execution_count": 76,
   "metadata": {},
   "outputs": [],
   "source": [
    "DIR_INT = os.path.join(DIR_B, 'intent')"
   ]
  },
  {
   "cell_type": "code",
   "execution_count": null,
   "metadata": {},
   "outputs": [],
   "source": [
    "int_nb = pd.read_pickle(os.path.join(DIR_INT,'NB','1550234307.5055256','df_res_int.pickle'))\n",
    "\n",
    "int_svm_ft_sum = pd.read_pickle(os.path.join(DIR_INT,'SVM_ft_sum','1550234307.5055256','df_res_int.pickle'))\n",
    "int_svm_gl_sum = pd.read_pickle(os.path.join(DIR_INT,'SVM_gl_sum','1550234307.5055256','df_res_int.pickle'))\n",
    "int_svm_wv_sum = pd.read_pickle(os.path.join(DIR_INT,'SVM_wv_sum','1550234307.5055256','df_res_int.pickle'))\n",
    "\n",
    "int_LSTM_gl = pd.read_pickle(os.path.join(DIR_INT,'LSTM','1550234307.5055256','df_res_int.pickle'))\n",
    "int_BiLSTM_gl = pd.read_pickle(os.path.join(DIR_INT,'BiLSTM','1550234307.5055256','df_res_int.pickle'))\n",
    "int_LSTM_BB_gl = pd.read_pickle(os.path.join(DIR_INT,'LSTM_BB','1550234307.5055256','df_res_int.pickle'))\n",
    "int_BiLSTM_BB_gl = pd.read_pickle(os.path.join(DIR_INT,'BiLSTM_BB','1550234307.5055256','df_res_int.pickle'))"
   ]
  },
  {
   "cell_type": "code",
   "execution_count": null,
   "metadata": {},
   "outputs": [],
   "source": [
    "res_braun_int = pd.concat([int_nb, \n",
    "                            int_svm_ft_ave, int_svm_ft_sum, \n",
    "                            int_svm_gl_ave, int_svm_gl_sum, \n",
    "                            int_svm_wv_ave, int_svm_wv_sum,\n",
    "                            int_LSTM_gl, int_BiLSTM_gl, \n",
    "                            int_LSTM_BB_gl, int_BiLSTM_BB_gl])"
   ]
  },
  {
   "cell_type": "code",
   "execution_count": null,
   "metadata": {},
   "outputs": [],
   "source": [
    "# split into train and test tables\n",
    "# save tables to latex\n",
    "# plot graphs of average F1s\n",
    "# add full results for comparison"
   ]
  },
  {
   "cell_type": "markdown",
   "metadata": {},
   "source": [
    "### Original"
   ]
  },
  {
   "cell_type": "markdown",
   "metadata": {},
   "source": [
    "#### Travel"
   ]
  },
  {
   "cell_type": "code",
   "execution_count": null,
   "metadata": {},
   "outputs": [],
   "source": [
    "DIR_T = os.path.join(DIR, 'travel')\n",
    "\n",
    "# retrieve results from model\n",
    "t_nb = pd.read_pickle(os.path.join(DIR_T,'NB','1550234307.5055256','results.pickle'))\n",
    "\n",
    "t_svm_ft_ave = pd.read_pickle(os.path.join(DIR_T,'SVM_ft_ave','1550232422.3468802','results.pickle'))\n",
    "t_svm_ft_sum = pd.read_pickle(os.path.join(DIR_T,'SVM_ft_sum','1550232422.3468802','results.pickle'))\n",
    "t_svm_gl_ave = pd.read_pickle(os.path.join(DIR_T,'SVM_gl_ave','1550232422.3468802','results.pickle'))\n",
    "t_svm_gl_sum = pd.read_pickle(os.path.join(DIR_T,'SVM_gl_sum','1550232422.3468802','results.pickle'))\n",
    "t_svm_wv_ave = pd.read_pickle(os.path.join(DIR_T,'SVM_wv_ave','1550232422.3468802','results.pickle'))\n",
    "t_svm_wv_sum = pd.read_pickle(os.path.join(DIR_T,'SVM_wv_sum','1550232422.3468802','results.pickle'))\n",
    "\n",
    "t_LSTM_gl = pd.read_pickle(os.path.join(DIR_T,'LSTM_gl','1550232422.3468802','results.pickle'))\n",
    "t_BiLSTM_gl = pd.read_pickle(os.path.join(DIR_T,'BiLSTM_gl','1550232422.3468802','results.pickle'))\n",
    "t_LSTM_BB_gl = pd.read_pickle(os.path.join(DIR_T,'LSTM_BB_gl','1550232422.3468802','results.pickle'))\n",
    "t_BiLSTM_BB_gl = pd.read_pickle(os.path.join(DIR_T,'BiLSTM_BB_gl','1550232422.3468802','results.pickle'))\n",
    "\n",
    "res_t = pd.concat([t_nb, \n",
    "                   t_svm_ft_ave, t_svm_ft_sum, \n",
    "                   t_svm_gl_ave, t_svm_gl_sum, \n",
    "                   t_svm_wv_ave, t_svm_wv_sum,\n",
    "                   t_LSTM_gl, t_BiLSTM_gl,\n",
    "                   t_LSTM_BB_gl, t_BiLSTM_BB_gl])"
   ]
  },
  {
   "cell_type": "markdown",
   "metadata": {},
   "source": [
    "#### Ubuntu"
   ]
  },
  {
   "cell_type": "code",
   "execution_count": null,
   "metadata": {},
   "outputs": [],
   "source": [
    "DIR_U = os.path.join(DIR, 'ubuntu')\n",
    "\n",
    "u_nb = pd.read_pickle(os.path.join(DIR_T,'NB','1550234307.5055256','results.pickle'))\n",
    "\n",
    "u_svm_ft_ave = pd.read_pickle(os.path.join(DIR_U,'SVM_ft_ave','1550232422.3468802','results.pickle'))\n",
    "u_svm_ft_sum = pd.read_pickle(os.path.join(DIR_U,'SVM_ft_sum','1550232422.3468802','results.pickle'))\n",
    "u_svm_gl_ave = pd.read_pickle(os.path.join(DIR_U,'SVM_gl_ave','1550232422.3468802','results.pickle'))\n",
    "u_svm_gl_sum = pd.read_pickle(os.path.join(DIR_U,'SVM_gl_sum','1550232422.3468802','results.pickle'))\n",
    "u_svm_wv_ave = pd.read_pickle(os.path.join(DIR_U,'SVM_wv_ave','1550232422.3468802','results.pickle'))\n",
    "u_svm_wv_sum = pd.read_pickle(os.path.join(DIR_U,'SVM_wv_sum','1550232422.3468802','results.pickle'))\n",
    "\n",
    "u_LSTM_gl = pd.read_pickle(os.path.join(DIR_U,'LSTM_gl','1550232422.3468802','results.pickle'))\n",
    "u_BiLSTM_gl = pd.read_pickle(os.path.join(DIR_U,'BiLSTM_gl','1550232422.3468802','results.pickle'))\n",
    "u_LSTM_BB_gl = pd.read_pickle(os.path.join(DIR_U,'LSTM_BB_gl','1550232422.3468802','results.pickle'))\n",
    "u_BiLSTM_BB_gl = pd.read_pickle(os.path.join(DIR_U,'BiLSTM_BB_gl','1550232422.3468802','results.pickle'))\n",
    "\n",
    "res_u = pd.concat([u_nb, \n",
    "                   u_svm_ft_ave, u_svm_ft_sum, \n",
    "                   u_svm_gl_ave, u_svm_gl_sum, \n",
    "                   u_svm_wv_ave, u_svm_wv_sum,\n",
    "                   u_LSTM_gl, u_BiLSTM_gl,\n",
    "                   u_LSTM_BB_gl, u_BiLSTM_BB_gl])"
   ]
  },
  {
   "cell_type": "markdown",
   "metadata": {},
   "source": [
    "#### WebApp"
   ]
  },
  {
   "cell_type": "code",
   "execution_count": null,
   "metadata": {},
   "outputs": [],
   "source": [
    "DIR_W = os.path.join(DIR, 'webapp')\n",
    "\n",
    "w_nb = pd.read_pickle(os.path.join(DIR_T,'NB','1550234307.5055256','results.pickle'))\n",
    "\n",
    "w_svm_ft_ave = pd.read_pickle(os.path.join(DIR_W,'SVM_ft_ave','1550232422.3468802','results.pickle'))\n",
    "w_svm_ft_sum = pd.read_pickle(os.path.join(DIR_W,'SVM_ft_sum','1550232422.3468802','results.pickle'))\n",
    "w_svm_gl_ave = pd.read_pickle(os.path.join(DIR_W,'SVM_gl_ave','1550232422.3468802','results.pickle'))\n",
    "w_svm_gl_sum = pd.read_pickle(os.path.join(DIR_W,'SVM_gl_sum','1550232422.3468802','results.pickle'))\n",
    "w_svm_wv_ave = pd.read_pickle(os.path.join(DIR_W,'SVM_wv_ave','1550232422.3468802','results.pickle'))\n",
    "w_svm_wv_sum = pd.read_pickle(os.path.join(DIR_W,'SVM_wv_sum','1550232422.3468802','results.pickle'))\n",
    "\n",
    "w_LSTM_gl = pd.read_pickle(os.path.join(DIR_W,'LSTM_gl','1550232422.3468802','results.pickle'))\n",
    "w_BiLSTM_gl = pd.read_pickle(os.path.join(DIR_W,'BiLSTM_gl','1550232422.3468802','results.pickle'))\n",
    "w_LSTM_BB_gl = pd.read_pickle(os.path.join(DIR_W,'LSTM_BB_gl','1550232422.3468802','results.pickle'))\n",
    "w_BiLSTM_BB_gl = pd.read_pickle(os.path.join(DIR_W,'BiLSTM_BB_gl','1550232422.3468802','results.pickle'))\n",
    "\n",
    "res_w = pd.concat([w_nb, \n",
    "                   w_svm_ft_ave, w_svm_ft_sum, \n",
    "                   w_svm_gl_ave, w_svm_gl_sum, \n",
    "                   w_svm_wv_ave, w_svm_wv_sum,\n",
    "                   w_LSTM_gl, w_BiLSTM_gl,\n",
    "                   w_LSTM_BB_gl, w_BiLSTM_BB_gl])"
   ]
  },
  {
   "cell_type": "markdown",
   "metadata": {},
   "source": [
    "## Retail Banking"
   ]
  },
  {
   "cell_type": "markdown",
   "metadata": {},
   "source": [
    "### Full"
   ]
  },
  {
   "cell_type": "markdown",
   "metadata": {},
   "source": [
    "### Intents"
   ]
  },
  {
   "cell_type": "markdown",
   "metadata": {},
   "source": [
    "### Vary Training Observations"
   ]
  }
 ],
 "metadata": {
  "kernelspec": {
   "display_name": "fastAI custom",
   "language": "python",
   "name": "fastai"
  },
  "language_info": {
   "codemirror_mode": {
    "name": "ipython",
    "version": 3
   },
   "file_extension": ".py",
   "mimetype": "text/x-python",
   "name": "python",
   "nbconvert_exporter": "python",
   "pygments_lexer": "ipython3",
   "version": "3.6.6"
  }
 },
 "nbformat": 4,
 "nbformat_minor": 2
}
