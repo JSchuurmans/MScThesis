{
 "cells": [
  {
   "cell_type": "code",
   "execution_count": 1,
   "metadata": {},
   "outputs": [],
   "source": [
    "import pandas as pd\n",
    "import os\n",
    "import sys\n",
    "import matplotlib.pyplot as plt\n",
    "%matplotlib inline"
   ]
  },
  {
   "cell_type": "markdown",
   "metadata": {},
   "source": [
    "# Results"
   ]
  },
  {
   "cell_type": "code",
   "execution_count": 2,
   "metadata": {},
   "outputs": [],
   "source": [
    "DIR = os.path.join('..','log')"
   ]
  },
  {
   "cell_type": "code",
   "execution_count": 3,
   "metadata": {},
   "outputs": [],
   "source": [
    "# MODELS\n",
    "\n",
    "# nb\n",
    "\n",
    "# svm_ft_ave\n",
    "# svm_ft_sum\n",
    "# svm_gl_ave\n",
    "# svm_gl_sum\n",
    "# svm_wv_ave\n",
    "# svm_wv_sum\n",
    "\n",
    "# LSTM_gl\n",
    "# BiLSTM_gl\n",
    "# LSTM_BB_gl\n",
    "# BiLSTM_BB_gl\n",
    "\n",
    "# h_nb\n",
    "\n",
    "# h_svm_ft_ave\n",
    "# h_svm_ft_sum\n",
    "# h_svm_gl_ave\n",
    "# h_svm_gl_sum\n",
    "# h_svm_wv_ave\n",
    "# h_svm_wv_sum\n",
    "\n",
    "# h_LSTM_gl\n",
    "# h_BiLSTM_gl\n",
    "# h_LSTM_BB_gl\n",
    "# h_BiLSTM_BB_gl"
   ]
  },
  {
   "cell_type": "markdown",
   "metadata": {},
   "source": [
    "## Braun"
   ]
  },
  {
   "cell_type": "code",
   "execution_count": 4,
   "metadata": {},
   "outputs": [],
   "source": [
    "DIR_B = os.path.join(DIR, 'braun')"
   ]
  },
  {
   "cell_type": "markdown",
   "metadata": {},
   "source": [
    "### Full"
   ]
  },
  {
   "cell_type": "code",
   "execution_count": 5,
   "metadata": {},
   "outputs": [],
   "source": [
    "# retrieve results from model\n",
    "nb = pd.read_pickle(os.path.join(DIR_B,'NB','1550400750.9335818','results.pickle'))\n",
    "\n",
    "svm_ft_ave = pd.read_pickle(os.path.join(DIR_B,'SVM_ft_ave','1550421078.9964626','results.pickle'))\n",
    "svm_ft_sum = pd.read_pickle(os.path.join(DIR_B,'SVM_ft_sum','1550419444.2901323','results.pickle'))\n",
    "svm_gl_ave = pd.read_pickle(os.path.join(DIR_B,'SVM_gl_ave','1550419886.819051','results.pickle'))\n",
    "svm_gl_sum = pd.read_pickle(os.path.join(DIR_B,'SVM_gl_sum','1550419429.4049299','results.pickle'))\n",
    "svm_wv_ave = pd.read_pickle(os.path.join(DIR_B,'SVM_wv_ave','1550419765.7227283','results.pickle'))\n",
    "svm_wv_sum = pd.read_pickle(os.path.join(DIR_B,'SVM_wv_sum','1550419416.476974','results.pickle'))\n",
    "\n",
    "LSTM_gl = pd.read_pickle(os.path.join(DIR_B,'LSTM','1550325628.0549874','results.pickle'))\n",
    "BiLSTM_gl = pd.read_pickle(os.path.join(DIR_B,'BiLSTM','1550486362.4933956','results.pickle'))\n",
    "LSTM_BB_gl = pd.read_pickle(os.path.join(DIR_B,'LSTM_BB','1550311708.8217626','results.pickle'))\n",
    "BiLSTM_BB_gl = pd.read_pickle(os.path.join(DIR_B,'BiLSTM_BB','1550311822.8762727','results.pickle'))\n",
    "\n",
    "h_nb = pd.read_pickle(os.path.join(DIR_B,'h_NB','1550402549.471182','results.pickle'))\n",
    "h_svm_ft_ave = pd.read_pickle(os.path.join(DIR_B,'h_SVM_ft_ave','1550529700.2250593','results.pickle'))\n",
    "h_svm_ft_sum = pd.read_pickle(os.path.join(DIR_B,'h_SVM_ft_sum','1550529682.1473906','results.pickle'))\n",
    "h_svm_gl_ave = pd.read_pickle(os.path.join(DIR_B,'h_SVM_gl_ave','1550530852.448241','results.pickle'))\n",
    "h_svm_gl_sum = pd.read_pickle(os.path.join(DIR_B,'h_SVM_gl_sum','1550530850.427643','results.pickle'))\n",
    "h_svm_wv_ave = pd.read_pickle(os.path.join(DIR_B,'h_SVM_wv_ave','1550531064.6169825','results.pickle'))\n",
    "h_svm_wv_sum = pd.read_pickle(os.path.join(DIR_B,'h_SVM_wv_sum','1550531072.292462','results.pickle'))\n",
    "\n",
    "h_LSTM_gl = pd.read_pickle(os.path.join(DIR_B,'h_LSTM','1550531621.821716','results.pickle'))\n",
    "h_BiLSTM_gl = pd.read_pickle(os.path.join(DIR_B,'h_BiLSTM','1550532003.3515894','results.pickle'))"
   ]
  },
  {
   "cell_type": "code",
   "execution_count": 6,
   "metadata": {
    "scrolled": true
   },
   "outputs": [],
   "source": [
    "# h_LSTM_gl = pd.read_csv(os.path.join(DIR_B,'h_LSTM','1550531621.821716','results.csv')).drop('Unnamed: 0', axis=1)\n",
    "# h_BiLSTM_gl = pd.read_csv(os.path.join(DIR_B,'h_BiLSTM','1550532003.3515894','results.csv')).drop('Unnamed: 0', axis=1)\n",
    "# h_LSTM_gl\n",
    "# h_LSTM_BB_gl = pd.read_pickle(os.path.join(DIR_B,'h_LSTM_BB','1550243466.050011','results.pickle'))\n",
    "# h_BiLSTM_BB_gl = pd.read_pickle(os.path.join(DIR_B,'h_BiLSTM_BB','1550507292.1860704','results.pickle'))"
   ]
  },
  {
   "cell_type": "code",
   "execution_count": 7,
   "metadata": {},
   "outputs": [],
   "source": [
    "res_braun_full = pd.concat([nb, \n",
    "                           svm_ft_ave, svm_ft_sum, svm_gl_ave, svm_gl_sum, svm_wv_ave, svm_wv_sum,\n",
    "                           LSTM_gl, BiLSTM_gl, LSTM_BB_gl, BiLSTM_BB_gl,\n",
    "                           h_nb,\n",
    "                           h_svm_ft_ave, h_svm_ft_sum, \n",
    "                            h_svm_gl_ave, h_svm_gl_sum, \n",
    "                            h_svm_wv_ave, h_svm_wv_sum,\n",
    "                           h_LSTM_gl, h_BiLSTM_gl])"
   ]
  },
  {
   "cell_type": "code",
   "execution_count": 8,
   "metadata": {},
   "outputs": [
    {
     "name": "stdout",
     "output_type": "stream",
     "text": [
      "\\begin{tabular}{lrrrrrr}\n",
      "\\toprule\n",
      "{} &  F1\\_test &  F1\\_train &  P\\_test &  P\\_train &  R\\_test &  R\\_train \\\\\n",
      "model        &          &           &         &          &         &          \\\\\n",
      "\\midrule\n",
      "NB           &    0.541 &     0.575 &   0.549 &    0.571 &   0.547 &    0.582 \\\\\n",
      "SVM\\_ft\\_ave   &    0.689 &     0.975 &   0.733 &    0.968 &   0.686 &    0.988 \\\\\n",
      "SVM\\_ft\\_sum   &    0.657 &     0.997 &   0.678 &    0.997 &   0.650 &    0.998 \\\\\n",
      "SVM\\_gl\\_ave   &    0.752 &     0.999 &   0.796 &    0.998 &   0.736 &    0.999 \\\\\n",
      "SVM\\_gl\\_sum   &    0.680 &     0.993 &   0.728 &    0.993 &   0.657 &    0.994 \\\\\n",
      "SVM\\_wv\\_ave   &    0.705 &     0.997 &   0.750 &    0.997 &   0.687 &    0.998 \\\\\n",
      "SVM\\_wv\\_sum   &    0.673 &     0.997 &   0.736 &    0.997 &   0.650 &    0.998 \\\\\n",
      "LSTM         &    0.586 &     0.929 &   0.708 &    0.925 &   0.584 &    0.933 \\\\\n",
      "BiLSTM       &    0.575 &     1.000 &   0.624 &    1.000 &   0.575 &    1.000 \\\\\n",
      "LSTM\\_BB      &    0.552 &     0.739 &   0.556 &    0.751 &   0.560 &    0.756 \\\\\n",
      "BiLSTM\\_BB    &    0.581 &     0.775 &   0.640 &    0.756 &   0.575 &    0.799 \\\\\n",
      "h\\_NB         &    0.614 &     0.706 &   0.685 &    0.698 &   0.609 &    0.716 \\\\\n",
      "h\\_SVM\\_ft\\_ave &    0.782 &     0.999 &   0.863 &    0.998 &   0.772 &    0.999 \\\\\n",
      "h\\_SVM\\_ft\\_sum &    0.642 &     0.999 &   0.651 &    0.998 &   0.646 &    0.999 \\\\\n",
      "h\\_SVM\\_gl\\_ave &    0.654 &     0.999 &   0.676 &    0.998 &   0.654 &    0.999 \\\\\n",
      "h\\_SVM\\_gl\\_sum &    0.658 &     0.997 &   0.713 &    0.997 &   0.640 &    0.998 \\\\\n",
      "h\\_SVM\\_wv\\_ave &    0.703 &     0.997 &   0.707 &    0.997 &   0.705 &    0.998 \\\\\n",
      "h\\_SVM\\_wv\\_sum &    0.706 &     0.997 &   0.821 &    0.997 &   0.670 &    0.998 \\\\\n",
      "h\\_LSTM       &    0.615 &     1.000 &   0.669 &    1.000 &   0.606 &    1.000 \\\\\n",
      "h\\_BiLSTM     &    0.645 &     1.000 &   0.672 &    1.000 &   0.643 &    1.000 \\\\\n",
      "\\bottomrule\n",
      "\\end{tabular}\n",
      "\n"
     ]
    },
    {
     "data": {
      "text/html": [
       "<div>\n",
       "<style scoped>\n",
       "    .dataframe tbody tr th:only-of-type {\n",
       "        vertical-align: middle;\n",
       "    }\n",
       "\n",
       "    .dataframe tbody tr th {\n",
       "        vertical-align: top;\n",
       "    }\n",
       "\n",
       "    .dataframe thead th {\n",
       "        text-align: right;\n",
       "    }\n",
       "</style>\n",
       "<table border=\"1\" class=\"dataframe\">\n",
       "  <thead>\n",
       "    <tr style=\"text-align: right;\">\n",
       "      <th></th>\n",
       "      <th>F1_test</th>\n",
       "      <th>F1_train</th>\n",
       "      <th>P_test</th>\n",
       "      <th>P_train</th>\n",
       "      <th>R_test</th>\n",
       "      <th>R_train</th>\n",
       "    </tr>\n",
       "    <tr>\n",
       "      <th>model</th>\n",
       "      <th></th>\n",
       "      <th></th>\n",
       "      <th></th>\n",
       "      <th></th>\n",
       "      <th></th>\n",
       "      <th></th>\n",
       "    </tr>\n",
       "  </thead>\n",
       "  <tbody>\n",
       "    <tr>\n",
       "      <th>NB</th>\n",
       "      <td>0.541</td>\n",
       "      <td>0.575</td>\n",
       "      <td>0.549</td>\n",
       "      <td>0.571</td>\n",
       "      <td>0.547</td>\n",
       "      <td>0.582</td>\n",
       "    </tr>\n",
       "    <tr>\n",
       "      <th>SVM_ft_ave</th>\n",
       "      <td>0.689</td>\n",
       "      <td>0.975</td>\n",
       "      <td>0.733</td>\n",
       "      <td>0.968</td>\n",
       "      <td>0.686</td>\n",
       "      <td>0.988</td>\n",
       "    </tr>\n",
       "    <tr>\n",
       "      <th>SVM_ft_sum</th>\n",
       "      <td>0.657</td>\n",
       "      <td>0.997</td>\n",
       "      <td>0.678</td>\n",
       "      <td>0.997</td>\n",
       "      <td>0.650</td>\n",
       "      <td>0.998</td>\n",
       "    </tr>\n",
       "    <tr>\n",
       "      <th>SVM_gl_ave</th>\n",
       "      <td>0.752</td>\n",
       "      <td>0.999</td>\n",
       "      <td>0.796</td>\n",
       "      <td>0.998</td>\n",
       "      <td>0.736</td>\n",
       "      <td>0.999</td>\n",
       "    </tr>\n",
       "    <tr>\n",
       "      <th>SVM_gl_sum</th>\n",
       "      <td>0.680</td>\n",
       "      <td>0.993</td>\n",
       "      <td>0.728</td>\n",
       "      <td>0.993</td>\n",
       "      <td>0.657</td>\n",
       "      <td>0.994</td>\n",
       "    </tr>\n",
       "    <tr>\n",
       "      <th>SVM_wv_ave</th>\n",
       "      <td>0.705</td>\n",
       "      <td>0.997</td>\n",
       "      <td>0.750</td>\n",
       "      <td>0.997</td>\n",
       "      <td>0.687</td>\n",
       "      <td>0.998</td>\n",
       "    </tr>\n",
       "    <tr>\n",
       "      <th>SVM_wv_sum</th>\n",
       "      <td>0.673</td>\n",
       "      <td>0.997</td>\n",
       "      <td>0.736</td>\n",
       "      <td>0.997</td>\n",
       "      <td>0.650</td>\n",
       "      <td>0.998</td>\n",
       "    </tr>\n",
       "    <tr>\n",
       "      <th>LSTM</th>\n",
       "      <td>0.586</td>\n",
       "      <td>0.929</td>\n",
       "      <td>0.708</td>\n",
       "      <td>0.925</td>\n",
       "      <td>0.584</td>\n",
       "      <td>0.933</td>\n",
       "    </tr>\n",
       "    <tr>\n",
       "      <th>BiLSTM</th>\n",
       "      <td>0.575</td>\n",
       "      <td>1.000</td>\n",
       "      <td>0.624</td>\n",
       "      <td>1.000</td>\n",
       "      <td>0.575</td>\n",
       "      <td>1.000</td>\n",
       "    </tr>\n",
       "    <tr>\n",
       "      <th>LSTM_BB</th>\n",
       "      <td>0.552</td>\n",
       "      <td>0.739</td>\n",
       "      <td>0.556</td>\n",
       "      <td>0.751</td>\n",
       "      <td>0.560</td>\n",
       "      <td>0.756</td>\n",
       "    </tr>\n",
       "    <tr>\n",
       "      <th>BiLSTM_BB</th>\n",
       "      <td>0.581</td>\n",
       "      <td>0.775</td>\n",
       "      <td>0.640</td>\n",
       "      <td>0.756</td>\n",
       "      <td>0.575</td>\n",
       "      <td>0.799</td>\n",
       "    </tr>\n",
       "    <tr>\n",
       "      <th>h_NB</th>\n",
       "      <td>0.614</td>\n",
       "      <td>0.706</td>\n",
       "      <td>0.685</td>\n",
       "      <td>0.698</td>\n",
       "      <td>0.609</td>\n",
       "      <td>0.716</td>\n",
       "    </tr>\n",
       "    <tr>\n",
       "      <th>h_SVM_ft_ave</th>\n",
       "      <td>0.782</td>\n",
       "      <td>0.999</td>\n",
       "      <td>0.863</td>\n",
       "      <td>0.998</td>\n",
       "      <td>0.772</td>\n",
       "      <td>0.999</td>\n",
       "    </tr>\n",
       "    <tr>\n",
       "      <th>h_SVM_ft_sum</th>\n",
       "      <td>0.642</td>\n",
       "      <td>0.999</td>\n",
       "      <td>0.651</td>\n",
       "      <td>0.998</td>\n",
       "      <td>0.646</td>\n",
       "      <td>0.999</td>\n",
       "    </tr>\n",
       "    <tr>\n",
       "      <th>h_SVM_gl_ave</th>\n",
       "      <td>0.654</td>\n",
       "      <td>0.999</td>\n",
       "      <td>0.676</td>\n",
       "      <td>0.998</td>\n",
       "      <td>0.654</td>\n",
       "      <td>0.999</td>\n",
       "    </tr>\n",
       "    <tr>\n",
       "      <th>h_SVM_gl_sum</th>\n",
       "      <td>0.658</td>\n",
       "      <td>0.997</td>\n",
       "      <td>0.713</td>\n",
       "      <td>0.997</td>\n",
       "      <td>0.640</td>\n",
       "      <td>0.998</td>\n",
       "    </tr>\n",
       "    <tr>\n",
       "      <th>h_SVM_wv_ave</th>\n",
       "      <td>0.703</td>\n",
       "      <td>0.997</td>\n",
       "      <td>0.707</td>\n",
       "      <td>0.997</td>\n",
       "      <td>0.705</td>\n",
       "      <td>0.998</td>\n",
       "    </tr>\n",
       "    <tr>\n",
       "      <th>h_SVM_wv_sum</th>\n",
       "      <td>0.706</td>\n",
       "      <td>0.997</td>\n",
       "      <td>0.821</td>\n",
       "      <td>0.997</td>\n",
       "      <td>0.670</td>\n",
       "      <td>0.998</td>\n",
       "    </tr>\n",
       "    <tr>\n",
       "      <th>h_LSTM</th>\n",
       "      <td>0.615</td>\n",
       "      <td>1.000</td>\n",
       "      <td>0.669</td>\n",
       "      <td>1.000</td>\n",
       "      <td>0.606</td>\n",
       "      <td>1.000</td>\n",
       "    </tr>\n",
       "    <tr>\n",
       "      <th>h_BiLSTM</th>\n",
       "      <td>0.645</td>\n",
       "      <td>1.000</td>\n",
       "      <td>0.672</td>\n",
       "      <td>1.000</td>\n",
       "      <td>0.643</td>\n",
       "      <td>1.000</td>\n",
       "    </tr>\n",
       "  </tbody>\n",
       "</table>\n",
       "</div>"
      ],
      "text/plain": [
       "              F1_test  F1_train  P_test  P_train  R_test  R_train\n",
       "model                                                            \n",
       "NB              0.541     0.575   0.549    0.571   0.547    0.582\n",
       "SVM_ft_ave      0.689     0.975   0.733    0.968   0.686    0.988\n",
       "SVM_ft_sum      0.657     0.997   0.678    0.997   0.650    0.998\n",
       "SVM_gl_ave      0.752     0.999   0.796    0.998   0.736    0.999\n",
       "SVM_gl_sum      0.680     0.993   0.728    0.993   0.657    0.994\n",
       "SVM_wv_ave      0.705     0.997   0.750    0.997   0.687    0.998\n",
       "SVM_wv_sum      0.673     0.997   0.736    0.997   0.650    0.998\n",
       "LSTM            0.586     0.929   0.708    0.925   0.584    0.933\n",
       "BiLSTM          0.575     1.000   0.624    1.000   0.575    1.000\n",
       "LSTM_BB         0.552     0.739   0.556    0.751   0.560    0.756\n",
       "BiLSTM_BB       0.581     0.775   0.640    0.756   0.575    0.799\n",
       "h_NB            0.614     0.706   0.685    0.698   0.609    0.716\n",
       "h_SVM_ft_ave    0.782     0.999   0.863    0.998   0.772    0.999\n",
       "h_SVM_ft_sum    0.642     0.999   0.651    0.998   0.646    0.999\n",
       "h_SVM_gl_ave    0.654     0.999   0.676    0.998   0.654    0.999\n",
       "h_SVM_gl_sum    0.658     0.997   0.713    0.997   0.640    0.998\n",
       "h_SVM_wv_ave    0.703     0.997   0.707    0.997   0.705    0.998\n",
       "h_SVM_wv_sum    0.706     0.997   0.821    0.997   0.670    0.998\n",
       "h_LSTM          0.615     1.000   0.669    1.000   0.606    1.000\n",
       "h_BiLSTM        0.645     1.000   0.672    1.000   0.643    1.000"
      ]
     },
     "execution_count": 8,
     "metadata": {},
     "output_type": "execute_result"
    }
   ],
   "source": [
    "rbf = res_braun_full.set_index('model').round(3)[['F1_test', 'F1_train','P_test','P_train','R_test','R_train']]\n",
    "print(rbf.to_latex())\n",
    "rbf"
   ]
  },
  {
   "cell_type": "markdown",
   "metadata": {},
   "source": [
    "#### Cross validation"
   ]
  },
  {
   "cell_type": "code",
   "execution_count": 9,
   "metadata": {},
   "outputs": [],
   "source": [
    "DIR_CV = os.path.join(DIR_B, 'cv')"
   ]
  },
  {
   "cell_type": "code",
   "execution_count": 10,
   "metadata": {},
   "outputs": [],
   "source": [
    "cv_lstm_gl = pd.read_pickle(os.path.join(DIR_CV,'LSTM','1550309237.9649193','df_res_cv.pickle'))\n",
    "cv_bilstm_gl = pd.read_pickle(os.path.join(DIR_CV,'BiLSTM','1550309234.6299407','df_res_cv.pickle'))\n",
    "cv_lstm_bb_gl = pd.read_pickle(os.path.join(DIR_CV,'LSTM_BB','1550243466.050011','df_res_cv.pickle'))\n",
    "cv_bilstm_bb_gl = pd.read_pickle(os.path.join(DIR_CV,'BiLSTM_BB','1550244682.9822152','df_res_cv.pickle'))\n",
    "\n",
    "cv_h_lstm_gl = pd.read_pickle(os.path.join(DIR_CV,'h_LSTM','1550531621.821716','df_res_cv.pickle'))\n",
    "cv_h_bilstm_gl = pd.read_pickle(os.path.join(DIR_CV,'h_BiLSTM','1550532003.3515894','df_res_cv.pickle'))\n",
    "# cv_h_lstm_bb_gl = pd.read_pickle(os.path.join(DIR_CV,'h_LSTM_BB','1550243466.050011','df_res_cv.pickle'))\n",
    "# cv_h_bilstm_bb_gl = pd.read_pickle(os.path.join(DIR_CV,'h_BiLSTM_BB','1550244682.9822152','df_res_cv.pickle'))"
   ]
  },
  {
   "cell_type": "code",
   "execution_count": 11,
   "metadata": {},
   "outputs": [],
   "source": [
    "# per model\n",
    "# table to latex\n",
    "# heatmap"
   ]
  },
  {
   "cell_type": "code",
   "execution_count": 12,
   "metadata": {},
   "outputs": [
    {
     "name": "stdout",
     "output_type": "stream",
     "text": [
      "LSTM\n",
      "0.5589698741732945\n",
      "\\begin{tabular}{lrrrr}\n",
      "\\toprule\n",
      "word\\_dim &  50.0  &  100.0 &  200.0 &  300.0 \\\\\n",
      "h\\_dim &        &        &        &        \\\\\n",
      "\\midrule\n",
      "25.0  &  0.238 &  0.214 &  0.394 &  0.360 \\\\\n",
      "50.0  &  0.313 &  0.359 &  0.362 &  0.517 \\\\\n",
      "75.0  &  0.345 &  0.395 &  0.452 &  0.524 \\\\\n",
      "100.0 &  0.365 &  0.398 &  0.523 &  0.542 \\\\\n",
      "150.0 &  0.399 &  0.452 &  0.482 &  0.528 \\\\\n",
      "200.0 &  0.382 &  0.471 &  0.495 &  0.537 \\\\\n",
      "300.0 &  0.430 &  0.448 &  0.448 &  0.559 \\\\\n",
      "\\bottomrule\n",
      "\\end{tabular}\n",
      "\n"
     ]
    }
   ],
   "source": [
    "print('LSTM')\n",
    "print(max(cv_lstm_gl['F1_valid']))\n",
    "print(cv_lstm_gl['F1_valid'].unstack().T.round(3).to_latex())\n",
    "# https://pandas.pydata.org/pandas-docs/stable/reference/api/pandas.DataFrame.to_latex.html"
   ]
  },
  {
   "cell_type": "code",
   "execution_count": 13,
   "metadata": {},
   "outputs": [
    {
     "name": "stdout",
     "output_type": "stream",
     "text": [
      "0.6274761709464367\n",
      "\\begin{tabular}{lrrrr}\n",
      "\\toprule\n",
      "word\\_dim &  50.0  &  100.0 &  200.0 &  300.0 \\\\\n",
      "h\\_dim &        &        &        &        \\\\\n",
      "\\midrule\n",
      "25.0  &  0.342 &  0.351 &  0.490 &  0.449 \\\\\n",
      "50.0  &  0.370 &  0.391 &  0.454 &  0.627 \\\\\n",
      "75.0  &  0.413 &  0.519 &  0.540 &  0.534 \\\\\n",
      "100.0 &  0.430 &  0.469 &  0.514 &  0.564 \\\\\n",
      "150.0 &  0.477 &  0.551 &  0.496 &  0.519 \\\\\n",
      "200.0 &  0.469 &  0.537 &  0.501 &  0.484 \\\\\n",
      "300.0 &  0.433 &  0.458 &  0.479 &  0.490 \\\\\n",
      "\\bottomrule\n",
      "\\end{tabular}\n",
      "\n"
     ]
    }
   ],
   "source": [
    "print(max(cv_bilstm_gl['F1_valid']))\n",
    "print(cv_bilstm_gl['F1_valid'].unstack().T.round(3).to_latex())"
   ]
  },
  {
   "cell_type": "code",
   "execution_count": 14,
   "metadata": {},
   "outputs": [
    {
     "name": "stdout",
     "output_type": "stream",
     "text": [
      "0.4251800926320184\n",
      "\\begin{tabular}{lrrrr}\n",
      "\\toprule\n",
      "word\\_dim &  50.0  &  100.0 &  200.0 &  300.0 \\\\\n",
      "h\\_dim &        &        &        &        \\\\\n",
      "\\midrule\n",
      "25.0  &  0.281 &  0.249 &  0.299 &  0.299 \\\\\n",
      "50.0  &  0.262 &  0.286 &  0.310 &  0.424 \\\\\n",
      "75.0  &  0.268 &  0.316 &  0.306 &  0.400 \\\\\n",
      "100.0 &  0.266 &  0.315 &  0.360 &  0.388 \\\\\n",
      "150.0 &  0.266 &  0.327 &  0.354 &  0.404 \\\\\n",
      "200.0 &  0.265 &  0.312 &  0.420 &  0.415 \\\\\n",
      "300.0 &  0.258 &  0.319 &  0.425 &  0.417 \\\\\n",
      "\\bottomrule\n",
      "\\end{tabular}\n",
      "\n"
     ]
    }
   ],
   "source": [
    "print(max(cv_lstm_bb_gl['F1_valid']))\n",
    "print(cv_lstm_bb_gl['F1_valid'].unstack().T.round(3).to_latex())"
   ]
  },
  {
   "cell_type": "code",
   "execution_count": 15,
   "metadata": {},
   "outputs": [
    {
     "name": "stdout",
     "output_type": "stream",
     "text": [
      "0.39964993857074604\n",
      "\\begin{tabular}{lrrrr}\n",
      "\\toprule\n",
      "word\\_dim &  50.0  &  100.0 &  200.0 &  300.0 \\\\\n",
      "h\\_dim &        &        &        &        \\\\\n",
      "\\midrule\n",
      "25.0  &  0.358 &  0.296 &  0.303 &  0.319 \\\\\n",
      "50.0  &  0.315 &  0.312 &  0.338 &  0.383 \\\\\n",
      "75.0  &  0.316 &  0.350 &  0.359 &  0.397 \\\\\n",
      "100.0 &  0.338 &  0.373 &  0.364 &  0.365 \\\\\n",
      "150.0 &  0.314 &  0.345 &  0.378 &  0.369 \\\\\n",
      "200.0 &  0.286 &  0.365 &  0.369 &  0.400 \\\\\n",
      "300.0 &  0.328 &  0.332 &  0.351 &  0.387 \\\\\n",
      "\\bottomrule\n",
      "\\end{tabular}\n",
      "\n"
     ]
    }
   ],
   "source": [
    "print(max(cv_bilstm_bb_gl['F1_valid']))\n",
    "print(cv_bilstm_bb_gl['F1_valid'].unstack().T.round(3).to_latex())"
   ]
  },
  {
   "cell_type": "code",
   "execution_count": 16,
   "metadata": {},
   "outputs": [
    {
     "name": "stdout",
     "output_type": "stream",
     "text": [
      "0.5911050026071034\n",
      "\\begin{tabular}{lrrrr}\n",
      "\\toprule\n",
      "word\\_dim &  50.0  &  100.0 &  200.0 &  300.0 \\\\\n",
      "h\\_dim &        &        &        &        \\\\\n",
      "\\midrule\n",
      "25.0  &  0.214 &  0.249 &  0.350 &  0.411 \\\\\n",
      "50.0  &  0.290 &  0.357 &  0.414 &  0.472 \\\\\n",
      "75.0  &  0.343 &  0.367 &  0.413 &  0.457 \\\\\n",
      "100.0 &  0.405 &  0.408 &  0.534 &  0.497 \\\\\n",
      "150.0 &  0.353 &  0.488 &  0.591 &  0.507 \\\\\n",
      "200.0 &  0.438 &  0.426 &  0.526 &  0.515 \\\\\n",
      "300.0 &  0.461 &  0.463 &  0.516 &  0.528 \\\\\n",
      "\\bottomrule\n",
      "\\end{tabular}\n",
      "\n"
     ]
    }
   ],
   "source": [
    "print(max(cv_h_lstm_gl['F1_valid']))\n",
    "print(cv_h_lstm_gl['F1_valid'].unstack().T.round(3).to_latex())"
   ]
  },
  {
   "cell_type": "code",
   "execution_count": 17,
   "metadata": {},
   "outputs": [
    {
     "name": "stdout",
     "output_type": "stream",
     "text": [
      "0.5753738452793075\n",
      "\\begin{tabular}{lrrrr}\n",
      "\\toprule\n",
      "word\\_dim &  50.0  &  100.0 &  200.0 &  300.0 \\\\\n",
      "h\\_dim &        &        &        &        \\\\\n",
      "\\midrule\n",
      "25.0  &  0.275 &  0.368 &  0.431 &  0.481 \\\\\n",
      "50.0  &  0.360 &  0.436 &  0.500 &  0.541 \\\\\n",
      "75.0  &  0.389 &  0.483 &  0.491 &  0.571 \\\\\n",
      "100.0 &  0.400 &  0.460 &  0.539 &  0.556 \\\\\n",
      "150.0 &  0.494 &  0.495 &  0.549 &  0.575 \\\\\n",
      "200.0 &  0.544 &  0.557 &  0.519 &  0.525 \\\\\n",
      "300.0 &  0.559 &  0.474 &  0.468 &  0.548 \\\\\n",
      "\\bottomrule\n",
      "\\end{tabular}\n",
      "\n"
     ]
    }
   ],
   "source": [
    "print(max(cv_h_bilstm_gl['F1_valid']))\n",
    "print(cv_h_bilstm_gl['F1_valid'].unstack().T.round(3).to_latex())"
   ]
  },
  {
   "cell_type": "markdown",
   "metadata": {},
   "source": [
    "### Intents"
   ]
  },
  {
   "cell_type": "code",
   "execution_count": 18,
   "metadata": {},
   "outputs": [],
   "source": [
    "DIR_INT = os.path.join(DIR_B, 'intent')"
   ]
  },
  {
   "cell_type": "code",
   "execution_count": 128,
   "metadata": {},
   "outputs": [
    {
     "name": "stdout",
     "output_type": "stream",
     "text": [
      "\\begin{tabular}{lrrrrrrrrr}\n",
      "\\toprule\n",
      "n\\_intent &   5.0  &   6.0  &   7.0  &   8.0  &   9.0  &   10.0 &   11.0 &   12.0 &   13.0 \\\\\n",
      "\\midrule\n",
      "NB         &  0.540 &  0.604 &  0.619 &  0.611 &  0.620 &  0.627 &  0.590 &  0.579 &  0.548 \\\\\n",
      "SVM\\_ft\\_ave &  0.802 &  0.736 &  0.796 &  0.820 &  0.774 &  0.780 &  0.753 &  0.760 &  0.737 \\\\\n",
      "SVM\\_ft\\_sum &  0.806 &  0.752 &  0.782 &  0.804 &  0.759 &  0.758 &  0.720 &  0.724 &  0.702 \\\\\n",
      "SVM\\_gl\\_sum &  0.768 &  0.765 &  0.783 &  0.774 &  0.750 &  0.760 &  0.733 &  0.732 &  0.733 \\\\\n",
      "SVM\\_wv\\_ave &  0.783 &  0.721 &  0.807 &  0.808 &  0.756 &  0.776 &  0.756 &  0.765 &  0.752 \\\\\n",
      "SVM\\_wv\\_sum &  0.787 &  0.738 &  0.791 &  0.793 &  0.759 &  0.752 &  0.733 &  0.734 &  0.717 \\\\\n",
      "LSTM\\_gl    &  0.603 &  0.643 &  0.634 &  0.633 &  0.609 &  0.651 &  0.596 &  0.615 &  0.600 \\\\\n",
      "BiLSTM\\_gl  &  0.633 &  0.650 &  0.671 &  0.649 &  0.615 &  0.644 &  0.605 &  0.614 &  0.595 \\\\\n",
      "LSTM\\_BB    &  0.543 &  0.559 &  0.576 &  0.591 &  0.574 &  0.592 &  0.548 &  0.563 &  0.541 \\\\\n",
      "BiLSTM\\_BB  &  0.509 &  0.597 &  0.604 &  0.584 &  0.590 &  0.611 &  0.572 &  0.576 &  0.570 \\\\\n",
      "\\bottomrule\n",
      "\\end{tabular}\n",
      "\n"
     ]
    }
   ],
   "source": [
    "int_nb = pd.read_pickle(os.path.join(DIR_INT,'NB','1550400750.9335818','df_res_int.pickle'))\n",
    "\n",
    "\n",
    "int_svm_ft_ave = pd.read_pickle(os.path.join(DIR_INT,'SVM_ft_ave','1550421078.9964626','df_res_int.pickle'))\n",
    "int_svm_ft_sum = pd.read_pickle(os.path.join(DIR_INT,'SVM_ft_sum','1550419444.2901323','df_res_int.pickle'))\n",
    "int_svm_gl_ave = pd.read_pickle(os.path.join(DIR_INT,'SVM_gl_ave','1550419886.819051','df_res_int.pickle'))\n",
    "int_svm_gl_sum = pd.read_pickle(os.path.join(DIR_INT,'SVM_gl_sum','1550419429.4049299','df_res_int.pickle'))\n",
    "int_svm_wv_ave = pd.read_pickle(os.path.join(DIR_INT,'SVM_wv_ave','1550419765.7227283','df_res_int.pickle'))\n",
    "int_svm_wv_sum = pd.read_pickle(os.path.join(DIR_INT,'SVM_wv_sum','1550419416.476974','df_res_int.pickle'))\n",
    "\n",
    "int_LSTM_gl = pd.read_pickle(os.path.join(DIR_INT,'LSTM','1550522136.125663','df_res_int.pickle'))\n",
    "int_BiLSTM_gl = pd.read_pickle(os.path.join(DIR_INT,'BiLSTM','1550531978.1948385','df_res_int.pickle'))\n",
    "int_LSTM_BB_gl = pd.read_pickle(os.path.join(DIR_INT,'LSTM_BB','1550311708.8217626','df_res_int.pickle'))\n",
    "int_BiLSTM_BB_gl = pd.read_pickle(os.path.join(DIR_INT,'BiLSTM_BB','1550311822.8762727','df_res_int.pickle'))\n",
    "\n",
    "res_int = pd.DataFrame(\n",
    "    {'NB':int_nb.groupby(by=['n_intent'])['F1_test'].mean(),\n",
    "    'NB_std':int_nb.groupby(by=['n_intent'])['F1_test'].std(),\n",
    "     'SVM_ft_ave':int_svm_ft_ave.groupby(by=['n_intent'])['F1_test'].mean(),\n",
    "    'SVM_ft_ave_std':int_svm_ft_ave.groupby(by=['n_intent'])['F1_test'].std(),\n",
    "     'SVM_ft_sum':int_svm_ft_sum.groupby(by=['n_intent'])['F1_test'].mean(),\n",
    "    'SVM_ft_sum_std':int_svm_ft_sum.groupby(by=['n_intent'])['F1_test'].std(),\n",
    "    'SVM_gl_ave_std':int_svm_gl_ave.groupby(by=['n_intent'])['F1_test'].std(),\n",
    "    'SVM_gl_ave_std':int_svm_gl_ave.groupby(by=['n_intent'])['F1_test'].std(),\n",
    "     'SVM_gl_sum':int_svm_gl_sum.groupby(by=['n_intent'])['F1_test'].mean(),\n",
    "    'SVM_gl_sum_std':int_svm_gl_sum.groupby(by=['n_intent'])['F1_test'].std(),\n",
    "     'SVM_wv_ave':int_svm_wv_ave.groupby(by=['n_intent'])['F1_test'].mean(),\n",
    "    'SVM_wv_ave_std':int_svm_wv_ave.groupby(by=['n_intent'])['F1_test'].std(),\n",
    "     'SVM_wv_sum':int_svm_wv_sum.groupby(by=['n_intent'])['F1_test'].mean(),\n",
    "    'SVM_wv_sum_std':int_svm_wv_sum.groupby(by=['n_intent'])['F1_test'].std(),\n",
    "     'LSTM_gl':int_LSTM_gl.groupby(by=['n_intent'])['F1_test'].mean(),\n",
    "    'LSTM_gl_std':int_LSTM_gl.groupby(by=['n_intent'])['F1_test'].std(),\n",
    "     'BiLSTM_gl':int_BiLSTM_gl.groupby(by=['n_intent'])['F1_test'].mean(),\n",
    "    'BiLSTM_std':int_BiLSTM_gl.groupby(by=['n_intent'])['F1_test'].std(),\n",
    "     'LSTM_BB':int_LSTM_BB_gl.groupby(by=['n_intent'])['F1_test'].mean(),\n",
    "    'LSTM_BB_std':int_LSTM_BB_gl.groupby(by=['n_intent'])['F1_test'].std(),\n",
    "     'BiLSTM_BB':int_BiLSTM_BB_gl.groupby(by=['n_intent'])['F1_test'].mean(),\n",
    "    'BiLSTM_BB_std':int_BiLSTM_BB_gl.groupby(by=['n_intent'])['F1_test'].std()\n",
    "    })\n",
    "\n",
    "# drop n_intents in [2,3,4]\n",
    "res_int.drop(res_int.index[0:3], inplace=True)\n",
    "\n",
    "print(res_int.filter(regex='^((?!std).)*$', axis=1).round(3).T.to_latex())"
   ]
  },
  {
   "cell_type": "code",
   "execution_count": 129,
   "metadata": {},
   "outputs": [
    {
     "data": {
      "image/png": "[encoded data removed]",
      "text/plain": [
       "<Figure size 1080x540 with 1 Axes>"
      ]
     },
     "metadata": {
      "needs_background": "light"
     },
     "output_type": "display_data"
    }
   ],
   "source": [
    "# plt.errorbar()\n",
    "fix,ax = plt.subplots(figsize=(15,7.5))\n",
    "res_int.filter(regex='^((?!std).)*$', axis=1).plot(ax=ax).legend(loc='center left', bbox_to_anchor=(1, 0.5), prop={'size':15})\n",
    "# res_int.filter(regex='.*std', axis=1)\n",
    "plt.savefig('Braun_intent.png', bbox_inches='tight')"
   ]
  },
  {
   "cell_type": "code",
   "execution_count": 130,
   "metadata": {
    "scrolled": true
   },
   "outputs": [
    {
     "name": "stdout",
     "output_type": "stream",
     "text": [
      "\\begin{tabular}{lrrrrrrrrr}\n",
      "\\toprule\n",
      "n\\_intent &   5.0  &   6.0  &   7.0  &   8.0  &   9.0  &   10.0 &   11.0 &   12.0 &   13.0 \\\\\n",
      "\\midrule\n",
      "NB\\_std         &  0.121 &  0.142 &  0.139 &  0.106 &  0.098 &  0.080 &  0.069 &  0.027 &  0.032 \\\\\n",
      "SVM\\_ft\\_ave\\_std &  0.115 &  0.135 &  0.116 &  0.078 &  0.074 &  0.051 &  0.051 &  0.041 &  0.015 \\\\\n",
      "SVM\\_ft\\_sum\\_std &  0.110 &  0.118 &  0.101 &  0.054 &  0.059 &  0.044 &  0.068 &  0.030 &  0.029 \\\\\n",
      "SVM\\_gl\\_ave\\_std &  0.138 &  0.122 &  0.098 &  0.063 &  0.063 &  0.046 &  0.056 &  0.033 &  0.023 \\\\\n",
      "SVM\\_gl\\_sum\\_std &  0.116 &  0.115 &  0.110 &  0.056 &  0.044 &  0.041 &  0.041 &  0.025 &  0.017 \\\\\n",
      "SVM\\_wv\\_ave\\_std &  0.154 &  0.199 &  0.124 &  0.068 &  0.061 &  0.046 &  0.047 &  0.036 &  0.025 \\\\\n",
      "SVM\\_wv\\_sum\\_std &  0.131 &  0.111 &  0.097 &  0.056 &  0.058 &  0.039 &  0.058 &  0.031 &  0.025 \\\\\n",
      "LSTM\\_gl\\_std    &  0.138 &  0.135 &  0.104 &  0.083 &  0.059 &  0.036 &  0.055 &  0.042 &  0.027 \\\\\n",
      "BiLSTM\\_std     &  0.130 &  0.142 &  0.095 &  0.075 &  0.065 &  0.047 &  0.048 &  0.043 &  0.022 \\\\\n",
      "LSTM\\_BB\\_std    &  0.132 &  0.130 &  0.124 &  0.101 &  0.056 &  0.041 &  0.058 &  0.036 &  0.030 \\\\\n",
      "BiLSTM\\_BB\\_std  &  0.112 &  0.118 &  0.123 &  0.097 &  0.071 &  0.046 &  0.061 &  0.049 &  0.023 \\\\\n",
      "\\bottomrule\n",
      "\\end{tabular}\n",
      "\n"
     ]
    }
   ],
   "source": [
    "# latex std of test F1 intent braun\n",
    "print(res_int.filter(regex='.*std', axis=1).round(3).T.to_latex())"
   ]
  },
  {
   "cell_type": "code",
   "execution_count": 59,
   "metadata": {},
   "outputs": [],
   "source": [
    "# fig, ax = plt.subplots()\n",
    "# res_int.filter(regex='^((?!std).)*$', axis=1).plot(yerr= res_int.filter(regex='.*std', axis=1), ax=ax)\n",
    "# plt.errorbar(x = res_int.index.values, y=res_int.filter(regex='^((?!std).)*$', axis=1),yerr=res_int.filter(regex='.*std', axis=1))"
   ]
  },
  {
   "cell_type": "code",
   "execution_count": null,
   "metadata": {},
   "outputs": [],
   "source": [
    "# add full results for comparison"
   ]
  },
  {
   "cell_type": "markdown",
   "metadata": {},
   "source": [
    "### Original"
   ]
  },
  {
   "cell_type": "markdown",
   "metadata": {},
   "source": [
    "#### Travel"
   ]
  },
  {
   "cell_type": "code",
   "execution_count": 86,
   "metadata": {},
   "outputs": [
    {
     "name": "stdout",
     "output_type": "stream",
     "text": [
      "\\begin{tabular}{lrr}\n",
      "\\toprule\n",
      "{} &  Travel test &  Travel train \\\\\n",
      "\\midrule\n",
      "NB         &        0.959 &         0.979 \\\\\n",
      "SVM\\_ft\\_ave &        0.958 &         0.990 \\\\\n",
      "SVM\\_ft\\_sum &        0.968 &         0.990 \\\\\n",
      "SVM\\_gl\\_ave &        0.946 &         0.990 \\\\\n",
      "SVM\\_gl\\_sum &        0.957 &         0.980 \\\\\n",
      "SVM\\_wv\\_ave &        0.979 &         0.980 \\\\\n",
      "SVM\\_wv\\_sum &        0.946 &         0.980 \\\\\n",
      "LSTM       &        0.945 &         1.000 \\\\\n",
      "BiLSTM     &        0.979 &         1.000 \\\\\n",
      "LSTM\\_BB    &        0.968 &         1.000 \\\\\n",
      "BiLSTM\\_BB  &        0.957 &         1.000 \\\\\n",
      "LUIS       &        0.979 &           NaN \\\\\n",
      "Watson     &        0.968 &           NaN \\\\\n",
      "API.ai     &        0.931 &           NaN \\\\\n",
      "RASA       &        0.979 &           NaN \\\\\n",
      "\\bottomrule\n",
      "\\end{tabular}\n",
      "\n"
     ]
    },
    {
     "name": "stderr",
     "output_type": "stream",
     "text": [
      "/home/jetze/miniconda3/envs/msc/lib/python3.7/site-packages/pandas/core/frame.py:6692: FutureWarning: Sorting because non-concatenation axis is not aligned. A future version\n",
      "of pandas will change to not sort by default.\n",
      "\n",
      "To accept the future behavior, pass 'sort=False'.\n",
      "\n",
      "To retain the current behavior and silence the warning, pass 'sort=True'.\n",
      "\n",
      "  sort=sort)\n"
     ]
    }
   ],
   "source": [
    "DIR_T = os.path.join(DIR, 'travel')\n",
    "\n",
    "# retrieve results from model\n",
    "t_nb = pd.read_pickle(os.path.join(DIR_T,'NB','1550400857.8448892','results.pickle'))\n",
    "\n",
    "t_svm_ft_ave = pd.read_pickle(os.path.join(DIR_T,'SVM_ft_ave','1550422701.3838975','results.pickle'))\n",
    "t_svm_ft_sum = pd.read_pickle(os.path.join(DIR_T,'SVM_ft_sum','1550421189.431819','results.pickle'))\n",
    "t_svm_gl_ave = pd.read_pickle(os.path.join(DIR_T,'SVM_gl_ave','1550420350.0241358','results.pickle'))\n",
    "t_svm_gl_sum = pd.read_pickle(os.path.join(DIR_T,'SVM_gl_sum','1550421134.8949609','results.pickle'))\n",
    "t_svm_wv_ave = pd.read_pickle(os.path.join(DIR_T,'SVM_wv_ave','1550420317.2050478','results.pickle'))\n",
    "t_svm_wv_sum = pd.read_pickle(os.path.join(DIR_T,'SVM_wv_sum','1550420405.9846866','results.pickle'))\n",
    "\n",
    "t_LSTM_gl = pd.read_pickle(os.path.join(DIR_T,'LSTM','1550344791.8709638','results.pickle'))\n",
    "t_BiLSTM_gl = pd.read_pickle(os.path.join(DIR_T,'BiLSTM','1550348531.683949','results.pickle'))\n",
    "t_LSTM_BB_gl = pd.read_pickle(os.path.join(DIR_T,'LSTM_BB','1550348681.513562','results.pickle'))\n",
    "t_BiLSTM_BB_gl = pd.read_pickle(os.path.join(DIR_T,'BiLSTM_BB','1550350849.2990074','results.pickle'))\n",
    "\n",
    "res_t = pd.concat([t_nb, \n",
    "                   t_svm_ft_ave, t_svm_ft_sum, \n",
    "                   t_svm_gl_ave, t_svm_gl_sum, \n",
    "                   t_svm_wv_ave, t_svm_wv_sum,\n",
    "                   t_LSTM_gl, t_BiLSTM_gl,\n",
    "                   t_LSTM_BB_gl, t_BiLSTM_BB_gl])\n",
    "# res_t\n",
    "t = res_t.set_index('model').round(3)[['F1_test', 'F1_train']] #,'P_test','P_train','R_test','R_train']]\n",
    "t_braun = pd.DataFrame(index=['LUIS','Watson','API.ai','RASA'], data={'F1_test':[0.979,0.968,0.931,0.979]})\n",
    "t = t.append(t_braun)\n",
    "t.columns = ['Travel test','Travel train']\n",
    "# print(t.to_latex())"
   ]
  },
  {
   "cell_type": "markdown",
   "metadata": {},
   "source": [
    "##### CV Travel"
   ]
  },
  {
   "cell_type": "code",
   "execution_count": 151,
   "metadata": {},
   "outputs": [],
   "source": [
    "DIR_CV_T = os.path.join(DIR_T, 'cv')"
   ]
  },
  {
   "cell_type": "code",
   "execution_count": 152,
   "metadata": {},
   "outputs": [],
   "source": [
    "t_cv_lstm_gl = pd.read_pickle(os.path.join(DIR_CV_T,'LSTM','1550344791.8709638','df_res_cv.pickle'))\n",
    "t_cv_bilstm_gl = pd.read_pickle(os.path.join(DIR_CV_T,'BiLSTM','1550348531.683949','df_res_cv.pickle'))\n",
    "t_cv_lstm_bb_gl = pd.read_pickle(os.path.join(DIR_CV_T,'LSTM_BB','1550348681.513562','df_res_cv.pickle'))\n",
    "t_cv_bilstm_bb_gl = pd.read_pickle(os.path.join(DIR_CV_T,'BiLSTM_BB','1550350849.2990074','df_res_cv.pickle'))"
   ]
  },
  {
   "cell_type": "code",
   "execution_count": 160,
   "metadata": {},
   "outputs": [
    {
     "name": "stdout",
     "output_type": "stream",
     "text": [
      "LSTM\n",
      "0.9794652324881442\n",
      "\\begin{tabular}{lrrrr}\n",
      "\\toprule\n",
      "word\\_dim &     50.0  &     100.0 &     200.0 &     300.0 \\\\\n",
      "h\\_dim &           &           &           &           \\\\\n",
      "\\midrule\n",
      "25.0  &  0.979465 &  0.979465 &  0.979465 &  0.979465 \\\\\n",
      "50.0  &  0.936175 &  0.968967 &  0.958274 &  0.968967 \\\\\n",
      "75.0  &  0.928216 &  0.968967 &  0.958274 &  0.958274 \\\\\n",
      "100.0 &  0.958874 &  0.968967 &  0.979465 &  0.958274 \\\\\n",
      "150.0 &  0.968967 &  0.979465 &  0.979465 &  0.979465 \\\\\n",
      "200.0 &  0.969373 &  0.979465 &  0.979465 &  0.979465 \\\\\n",
      "300.0 &  0.948864 &  0.979465 &  0.979465 &  0.968967 \\\\\n",
      "\\bottomrule\n",
      "\\end{tabular}\n",
      "\n"
     ]
    }
   ],
   "source": [
    "print('LSTM')\n",
    "print(max(t_cv_lstm_gl['F1_valid']))\n",
    "print(t_cv_lstm_gl['F1_valid'].unstack().T.round(7).to_latex())\n",
    "# https://pandas.pydata.org/pandas-docs/stable/reference/api/pandas.DataFrame.to_latex.html"
   ]
  },
  {
   "cell_type": "code",
   "execution_count": 157,
   "metadata": {
    "scrolled": true
   },
   "outputs": [
    {
     "name": "stdout",
     "output_type": "stream",
     "text": [
      "1.0\n",
      "\\begin{tabular}{lrrrr}\n",
      "\\toprule\n",
      "word\\_dim &  50.0  &  100.0 &  200.0 &  300.0 \\\\\n",
      "h\\_dim &        &        &        &        \\\\\n",
      "\\midrule\n",
      "25.0  &  0.958 &  0.979 &  0.979 &  0.979 \\\\\n",
      "50.0  &  0.948 &  0.990 &  0.990 &  0.979 \\\\\n",
      "75.0  &  0.908 &  0.949 &  0.990 &  0.990 \\\\\n",
      "100.0 &  0.905 &  0.990 &  0.979 &  0.979 \\\\\n",
      "150.0 &  0.938 &  0.979 &  0.979 &  1.000 \\\\\n",
      "200.0 &  0.905 &  0.969 &  0.969 &  0.979 \\\\\n",
      "300.0 &  0.917 &  0.959 &  0.979 &  0.979 \\\\\n",
      "\\bottomrule\n",
      "\\end{tabular}\n",
      "\n"
     ]
    }
   ],
   "source": [
    "print(max(t_cv_bilstm_gl['F1_valid']))\n",
    "print(t_cv_bilstm_gl['F1_valid'].unstack().T.round(3).to_latex())"
   ]
  },
  {
   "cell_type": "code",
   "execution_count": 158,
   "metadata": {},
   "outputs": [
    {
     "name": "stdout",
     "output_type": "stream",
     "text": [
      "0.9898000815993472\n",
      "\\begin{tabular}{lrrrr}\n",
      "\\toprule\n",
      "word\\_dim &  50.0  &  100.0 &  200.0 &  300.0 \\\\\n",
      "h\\_dim &        &        &        &        \\\\\n",
      "\\midrule\n",
      "25.0  &  0.979 &  0.969 &  0.969 &   0.98 \\\\\n",
      "50.0  &  0.949 &  0.970 &  0.969 &   0.97 \\\\\n",
      "75.0  &  0.959 &  0.970 &  0.980 &   0.95 \\\\\n",
      "100.0 &  0.980 &  0.980 &  0.970 &   0.96 \\\\\n",
      "150.0 &  0.970 &  0.970 &  0.970 &   0.95 \\\\\n",
      "200.0 &  0.939 &  0.939 &  0.990 &   0.98 \\\\\n",
      "300.0 &  0.949 &  0.959 &  0.939 &   0.95 \\\\\n",
      "\\bottomrule\n",
      "\\end{tabular}\n",
      "\n"
     ]
    }
   ],
   "source": [
    "print(max(t_cv_lstm_bb_gl['F1_valid']))\n",
    "print(t_cv_lstm_bb_gl['F1_valid'].unstack().T.round(3).to_latex())"
   ]
  },
  {
   "cell_type": "code",
   "execution_count": 159,
   "metadata": {},
   "outputs": [
    {
     "name": "stdout",
     "output_type": "stream",
     "text": [
      "0.9898000815993472\n",
      "\\begin{tabular}{lrrrr}\n",
      "\\toprule\n",
      "word\\_dim &  50.0  &  100.0 &  200.0 &  300.0 \\\\\n",
      "h\\_dim &        &        &        &        \\\\\n",
      "\\midrule\n",
      "25.0  &  0.949 &  0.990 &  0.990 &  0.990 \\\\\n",
      "50.0  &  0.970 &  0.980 &  0.990 &  0.980 \\\\\n",
      "75.0  &  0.970 &  0.990 &  0.970 &  0.980 \\\\\n",
      "100.0 &  0.970 &  0.959 &  0.980 &  0.980 \\\\\n",
      "150.0 &  0.970 &  0.970 &  0.980 &  0.980 \\\\\n",
      "200.0 &  0.959 &  0.959 &  0.959 &  0.990 \\\\\n",
      "300.0 &  0.959 &  0.959 &  0.980 &  0.979 \\\\\n",
      "\\bottomrule\n",
      "\\end{tabular}\n",
      "\n"
     ]
    }
   ],
   "source": [
    "print(max(t_cv_bilstm_bb_gl['F1_valid']))\n",
    "print(t_cv_bilstm_bb_gl['F1_valid'].unstack().T.round(3).to_latex())"
   ]
  },
  {
   "cell_type": "markdown",
   "metadata": {},
   "source": [
    "#### Ubuntu"
   ]
  },
  {
   "cell_type": "code",
   "execution_count": 87,
   "metadata": {},
   "outputs": [
    {
     "name": "stderr",
     "output_type": "stream",
     "text": [
      "/home/jetze/miniconda3/envs/msc/lib/python3.7/site-packages/pandas/core/frame.py:6692: FutureWarning: Sorting because non-concatenation axis is not aligned. A future version\n",
      "of pandas will change to not sort by default.\n",
      "\n",
      "To accept the future behavior, pass 'sort=False'.\n",
      "\n",
      "To retain the current behavior and silence the warning, pass 'sort=True'.\n",
      "\n",
      "  sort=sort)\n"
     ]
    }
   ],
   "source": [
    "DIR_U = os.path.join(DIR, 'ubuntu')\n",
    "\n",
    "u_nb = pd.read_pickle(os.path.join(DIR_U,'NB','1550401217.4068182','results.pickle'))\n",
    "\n",
    "u_svm_ft_ave = pd.read_pickle(os.path.join(DIR_U,'SVM_ft_ave','1550525200.9953518','results.pickle'))\n",
    "u_svm_ft_sum = pd.read_pickle(os.path.join(DIR_U,'SVM_ft_sum','1550526433.1474717','results.pickle'))\n",
    "u_svm_gl_ave = pd.read_pickle(os.path.join(DIR_U,'SVM_gl_ave','1550527477.570238','results.pickle'))\n",
    "u_svm_gl_sum = pd.read_pickle(os.path.join(DIR_U,'SVM_gl_sum','1550527451.8928897','results.pickle'))\n",
    "u_svm_wv_ave = pd.read_pickle(os.path.join(DIR_U,'SVM_wv_ave','1550527827.9819248','results.pickle'))\n",
    "u_svm_wv_sum = pd.read_pickle(os.path.join(DIR_U,'SVM_wv_sum','1550527833.8472435','results.pickle'))\n",
    "\n",
    "u_LSTM_gl = pd.read_pickle(os.path.join(DIR_U,'LSTM','1550350966.5539408','results.pickle'))\n",
    "u_BiLSTM_gl = pd.read_pickle(os.path.join(DIR_U,'BiLSTM','1550421313.3928645','results.pickle'))\n",
    "u_LSTM_BB_gl = pd.read_pickle(os.path.join(DIR_U,'LSTM_BB','1550353885.7177048','results.pickle'))\n",
    "u_BiLSTM_BB_gl = pd.read_pickle(os.path.join(DIR_U,'BiLSTM_BB','1550353847.754216','results.pickle'))\n",
    "\n",
    "res_u = pd.concat([u_nb, \n",
    "                   u_svm_ft_ave, u_svm_ft_sum, \n",
    "                   u_svm_gl_ave, u_svm_gl_sum, \n",
    "                   u_svm_wv_ave, u_svm_wv_sum,\n",
    "                   u_LSTM_gl, u_BiLSTM_gl,\n",
    "                   u_LSTM_BB_gl, u_BiLSTM_BB_gl])\n",
    "\n",
    "u = res_u.set_index('model').round(3)[['F1_test', 'F1_train']] #,'P_test','P_train','R_test','R_train']]\n",
    "u_braun = pd.DataFrame(index=['LUIS','Watson','API.ai','RASA'], data={'F1_test':[0.743,0.819,0.782,0.708]})\n",
    "u = u.append(u_braun)\n",
    "u.columns = ['Ubuntu test','Ubuntu train']"
   ]
  },
  {
   "cell_type": "markdown",
   "metadata": {},
   "source": [
    "#### WebApp"
   ]
  },
  {
   "cell_type": "code",
   "execution_count": 89,
   "metadata": {},
   "outputs": [
    {
     "name": "stderr",
     "output_type": "stream",
     "text": [
      "/home/jetze/miniconda3/envs/msc/lib/python3.7/site-packages/pandas/core/frame.py:6692: FutureWarning: Sorting because non-concatenation axis is not aligned. A future version\n",
      "of pandas will change to not sort by default.\n",
      "\n",
      "To accept the future behavior, pass 'sort=False'.\n",
      "\n",
      "To retain the current behavior and silence the warning, pass 'sort=True'.\n",
      "\n",
      "  sort=sort)\n"
     ]
    }
   ],
   "source": [
    "DIR_W = os.path.join(DIR, 'webapp2')\n",
    "\n",
    "w_nb = pd.read_pickle(os.path.join(DIR_W,'NB','1550401226.7037573','results.pickle'))\n",
    "\n",
    "w_svm_ft_ave = pd.read_pickle(os.path.join(DIR_W,'SVM_ft_ave','1550528339.1588721','results.pickle'))\n",
    "w_svm_ft_sum = pd.read_pickle(os.path.join(DIR_W,'SVM_ft_sum','1550528343.1123018','results.pickle'))\n",
    "w_svm_gl_ave = pd.read_pickle(os.path.join(DIR_W,'SVM_gl_ave','1550528149.146859','results.pickle'))\n",
    "w_svm_gl_sum = pd.read_pickle(os.path.join(DIR_W,'SVM_gl_sum','1550528149.146859','results.pickle'))\n",
    "w_svm_wv_ave = pd.read_pickle(os.path.join(DIR_W,'SVM_wv_ave','1550528013.5518622','results.pickle'))\n",
    "w_svm_wv_sum = pd.read_pickle(os.path.join(DIR_W,'SVM_wv_sum','1550528020.8159485','results.pickle'))\n",
    "\n",
    "w_LSTM_gl = pd.read_pickle(os.path.join(DIR_W,'LSTM','1550398655.3485744','results.pickle'))\n",
    "w_BiLSTM_gl = pd.read_pickle(os.path.join(DIR_W,'BiLSTM','1550399158.3261673','results.pickle'))\n",
    "w_LSTM_BB_gl = pd.read_pickle(os.path.join(DIR_W,'LSTM_BB','1550398585.2404103','results.pickle'))\n",
    "w_BiLSTM_BB_gl = pd.read_pickle(os.path.join(DIR_W,'BiLSTM_BB','1550398496.9461894','results.pickle'))\n",
    "\n",
    "res_w = pd.concat([w_nb, \n",
    "                   w_svm_ft_ave, w_svm_ft_sum, \n",
    "                   w_svm_gl_ave, w_svm_gl_sum, \n",
    "                   w_svm_wv_ave, w_svm_wv_sum,\n",
    "                   w_LSTM_gl, w_BiLSTM_gl,\n",
    "                   w_LSTM_BB_gl, w_BiLSTM_BB_gl])\n",
    "\n",
    "w = res_w.set_index('model').round(3)[['F1_test', 'F1_train']] # ,'P_test','P_train','R_test','R_train']]\n",
    "w_braun = pd.DataFrame(index=['LUIS','Watson','API.ai','RASA'], data={'F1_test':[0.690,0.630,0.628,0.494]})\n",
    "w = w.append(w_braun)\n",
    "w.columns = ['WebApp test', 'WebApp train']"
   ]
  },
  {
   "cell_type": "code",
   "execution_count": 109,
   "metadata": {},
   "outputs": [
    {
     "name": "stdout",
     "output_type": "stream",
     "text": [
      "\\begin{tabular}{lrrrrrr}\n",
      "\\toprule\n",
      "{} &  Travel test &  Travel train &  Ubuntu test &  Ubuntu train &  WebApp test &  WebApp train \\\\\n",
      "\\midrule\n",
      "NB         &        0.959 &         0.979 &        0.726 &         0.758 &        0.502 &         0.676 \\\\\n",
      "SVM\\_ft\\_ave &        0.958 &         0.990 &        0.812 &         1.000 &        0.771 &         1.000 \\\\\n",
      "SVM\\_ft\\_sum &        0.968 &         0.990 &        0.800 &         1.000 &        0.658 &         1.000 \\\\\n",
      "SVM\\_gl\\_ave &        0.946 &         0.990 &        0.805 &         1.000 &        0.591 &         1.000 \\\\\n",
      "SVM\\_gl\\_sum &        0.957 &         0.980 &        0.729 &         1.000 &        0.692 &         1.000 \\\\\n",
      "SVM\\_wv\\_ave &        0.979 &         0.980 &        0.742 &         1.000 &        0.698 &         1.000 \\\\\n",
      "SVM\\_wv\\_sum &        0.946 &         0.980 &        0.742 &         1.000 &        0.680 &         1.000 \\\\\n",
      "LSTM       &        0.945 &         1.000 &        0.665 &         1.000 &        0.546 &         1.000 \\\\\n",
      "BiLSTM     &        0.979 &         1.000 &        0.667 &         1.000 &        0.635 &         1.000 \\\\\n",
      "LSTM\\_BB    &        0.968 &         1.000 &        0.621 &         0.889 &        0.388 &         0.714 \\\\\n",
      "BiLSTM\\_BB  &        0.957 &         1.000 &        0.693 &         0.889 &        0.431 &         1.000 \\\\\n",
      "LUIS       &        0.979 &           NaN &        0.743 &           NaN &        0.690 &           NaN \\\\\n",
      "Watson     &        0.968 &           NaN &        0.819 &           NaN &        0.630 &           NaN \\\\\n",
      "API.ai     &        0.931 &           NaN &        0.782 &           NaN &        0.628 &           NaN \\\\\n",
      "RASA       &        0.979 &           NaN &        0.708 &           NaN &        0.494 &           NaN \\\\\n",
      "\\bottomrule\n",
      "\\end{tabular}\n",
      "\n"
     ]
    },
    {
     "data": {
      "text/html": [
       "<div>\n",
       "<style scoped>\n",
       "    .dataframe tbody tr th:only-of-type {\n",
       "        vertical-align: middle;\n",
       "    }\n",
       "\n",
       "    .dataframe tbody tr th {\n",
       "        vertical-align: top;\n",
       "    }\n",
       "\n",
       "    .dataframe thead th {\n",
       "        text-align: right;\n",
       "    }\n",
       "</style>\n",
       "<table border=\"1\" class=\"dataframe\">\n",
       "  <thead>\n",
       "    <tr style=\"text-align: right;\">\n",
       "      <th></th>\n",
       "      <th>Travel test</th>\n",
       "      <th>Travel train</th>\n",
       "      <th>Ubuntu test</th>\n",
       "      <th>Ubuntu train</th>\n",
       "      <th>WebApp test</th>\n",
       "      <th>WebApp train</th>\n",
       "    </tr>\n",
       "  </thead>\n",
       "  <tbody>\n",
       "    <tr>\n",
       "      <th>NB</th>\n",
       "      <td>0.959</td>\n",
       "      <td>0.979</td>\n",
       "      <td>0.726</td>\n",
       "      <td>0.758</td>\n",
       "      <td>0.502</td>\n",
       "      <td>0.676</td>\n",
       "    </tr>\n",
       "    <tr>\n",
       "      <th>SVM_ft_ave</th>\n",
       "      <td>0.958</td>\n",
       "      <td>0.990</td>\n",
       "      <td>0.812</td>\n",
       "      <td>1.000</td>\n",
       "      <td>0.771</td>\n",
       "      <td>1.000</td>\n",
       "    </tr>\n",
       "    <tr>\n",
       "      <th>SVM_ft_sum</th>\n",
       "      <td>0.968</td>\n",
       "      <td>0.990</td>\n",
       "      <td>0.800</td>\n",
       "      <td>1.000</td>\n",
       "      <td>0.658</td>\n",
       "      <td>1.000</td>\n",
       "    </tr>\n",
       "    <tr>\n",
       "      <th>SVM_gl_ave</th>\n",
       "      <td>0.946</td>\n",
       "      <td>0.990</td>\n",
       "      <td>0.805</td>\n",
       "      <td>1.000</td>\n",
       "      <td>0.591</td>\n",
       "      <td>1.000</td>\n",
       "    </tr>\n",
       "    <tr>\n",
       "      <th>SVM_gl_sum</th>\n",
       "      <td>0.957</td>\n",
       "      <td>0.980</td>\n",
       "      <td>0.729</td>\n",
       "      <td>1.000</td>\n",
       "      <td>0.692</td>\n",
       "      <td>1.000</td>\n",
       "    </tr>\n",
       "    <tr>\n",
       "      <th>SVM_wv_ave</th>\n",
       "      <td>0.979</td>\n",
       "      <td>0.980</td>\n",
       "      <td>0.742</td>\n",
       "      <td>1.000</td>\n",
       "      <td>0.698</td>\n",
       "      <td>1.000</td>\n",
       "    </tr>\n",
       "    <tr>\n",
       "      <th>SVM_wv_sum</th>\n",
       "      <td>0.946</td>\n",
       "      <td>0.980</td>\n",
       "      <td>0.742</td>\n",
       "      <td>1.000</td>\n",
       "      <td>0.680</td>\n",
       "      <td>1.000</td>\n",
       "    </tr>\n",
       "    <tr>\n",
       "      <th>LSTM</th>\n",
       "      <td>0.945</td>\n",
       "      <td>1.000</td>\n",
       "      <td>0.665</td>\n",
       "      <td>1.000</td>\n",
       "      <td>0.546</td>\n",
       "      <td>1.000</td>\n",
       "    </tr>\n",
       "    <tr>\n",
       "      <th>BiLSTM</th>\n",
       "      <td>0.979</td>\n",
       "      <td>1.000</td>\n",
       "      <td>0.667</td>\n",
       "      <td>1.000</td>\n",
       "      <td>0.635</td>\n",
       "      <td>1.000</td>\n",
       "    </tr>\n",
       "    <tr>\n",
       "      <th>LSTM_BB</th>\n",
       "      <td>0.968</td>\n",
       "      <td>1.000</td>\n",
       "      <td>0.621</td>\n",
       "      <td>0.889</td>\n",
       "      <td>0.388</td>\n",
       "      <td>0.714</td>\n",
       "    </tr>\n",
       "    <tr>\n",
       "      <th>BiLSTM_BB</th>\n",
       "      <td>0.957</td>\n",
       "      <td>1.000</td>\n",
       "      <td>0.693</td>\n",
       "      <td>0.889</td>\n",
       "      <td>0.431</td>\n",
       "      <td>1.000</td>\n",
       "    </tr>\n",
       "    <tr>\n",
       "      <th>LUIS</th>\n",
       "      <td>0.979</td>\n",
       "      <td>NaN</td>\n",
       "      <td>0.743</td>\n",
       "      <td>NaN</td>\n",
       "      <td>0.690</td>\n",
       "      <td>NaN</td>\n",
       "    </tr>\n",
       "    <tr>\n",
       "      <th>Watson</th>\n",
       "      <td>0.968</td>\n",
       "      <td>NaN</td>\n",
       "      <td>0.819</td>\n",
       "      <td>NaN</td>\n",
       "      <td>0.630</td>\n",
       "      <td>NaN</td>\n",
       "    </tr>\n",
       "    <tr>\n",
       "      <th>API.ai</th>\n",
       "      <td>0.931</td>\n",
       "      <td>NaN</td>\n",
       "      <td>0.782</td>\n",
       "      <td>NaN</td>\n",
       "      <td>0.628</td>\n",
       "      <td>NaN</td>\n",
       "    </tr>\n",
       "    <tr>\n",
       "      <th>RASA</th>\n",
       "      <td>0.979</td>\n",
       "      <td>NaN</td>\n",
       "      <td>0.708</td>\n",
       "      <td>NaN</td>\n",
       "      <td>0.494</td>\n",
       "      <td>NaN</td>\n",
       "    </tr>\n",
       "  </tbody>\n",
       "</table>\n",
       "</div>"
      ],
      "text/plain": [
       "            Travel test  Travel train  Ubuntu test  Ubuntu train  WebApp test  \\\n",
       "NB                0.959         0.979        0.726         0.758        0.502   \n",
       "SVM_ft_ave        0.958         0.990        0.812         1.000        0.771   \n",
       "SVM_ft_sum        0.968         0.990        0.800         1.000        0.658   \n",
       "SVM_gl_ave        0.946         0.990        0.805         1.000        0.591   \n",
       "SVM_gl_sum        0.957         0.980        0.729         1.000        0.692   \n",
       "SVM_wv_ave        0.979         0.980        0.742         1.000        0.698   \n",
       "SVM_wv_sum        0.946         0.980        0.742         1.000        0.680   \n",
       "LSTM              0.945         1.000        0.665         1.000        0.546   \n",
       "BiLSTM            0.979         1.000        0.667         1.000        0.635   \n",
       "LSTM_BB           0.968         1.000        0.621         0.889        0.388   \n",
       "BiLSTM_BB         0.957         1.000        0.693         0.889        0.431   \n",
       "LUIS              0.979           NaN        0.743           NaN        0.690   \n",
       "Watson            0.968           NaN        0.819           NaN        0.630   \n",
       "API.ai            0.931           NaN        0.782           NaN        0.628   \n",
       "RASA              0.979           NaN        0.708           NaN        0.494   \n",
       "\n",
       "            WebApp train  \n",
       "NB                 0.676  \n",
       "SVM_ft_ave         1.000  \n",
       "SVM_ft_sum         1.000  \n",
       "SVM_gl_ave         1.000  \n",
       "SVM_gl_sum         1.000  \n",
       "SVM_wv_ave         1.000  \n",
       "SVM_wv_sum         1.000  \n",
       "LSTM               1.000  \n",
       "BiLSTM             1.000  \n",
       "LSTM_BB            0.714  \n",
       "BiLSTM_BB          1.000  \n",
       "LUIS                 NaN  \n",
       "Watson               NaN  \n",
       "API.ai               NaN  \n",
       "RASA                 NaN  "
      ]
     },
     "execution_count": 109,
     "metadata": {},
     "output_type": "execute_result"
    }
   ],
   "source": [
    "r = pd.concat([t.T,u.T,w.T], sort=False)\n",
    "res_or = r.T\n",
    "# res_or.columns = t.columns+u.columns+w.columns\n",
    "print(res_or.to_latex())\n",
    "res_or"
   ]
  },
  {
   "cell_type": "markdown",
   "metadata": {},
   "source": [
    "## Retail Banking"
   ]
  },
  {
   "cell_type": "code",
   "execution_count": 110,
   "metadata": {},
   "outputs": [],
   "source": [
    "DIR_R = os.path.join(DIR, 'retail')"
   ]
  },
  {
   "cell_type": "markdown",
   "metadata": {},
   "source": [
    "### Full"
   ]
  },
  {
   "cell_type": "code",
   "execution_count": 115,
   "metadata": {},
   "outputs": [],
   "source": [
    "# retrieve results from model\n",
    "r_nb = pd.read_pickle(os.path.join(DIR_R,'NB','1550400707.1403997','results.pickle'))\n",
    "\n",
    "r_svm_ft_ave = pd.read_pickle(os.path.join(DIR_R,'SVM_ft_ave','1550403366.2854228','results.pickle'))\n",
    "r_svm_ft_sum = pd.read_pickle(os.path.join(DIR_R,'SVM_ft_sum','1550412052.979501','results.pickle'))\n",
    "r_svm_gl_ave = pd.read_pickle(os.path.join(DIR_R,'SVM_gl_ave','1550403480.6895697','results.pickle'))\n",
    "r_svm_gl_sum = pd.read_pickle(os.path.join(DIR_R,'SVM_gl_sum','1550410014.763635','results.pickle'))\n",
    "r_svm_wv_ave = pd.read_pickle(os.path.join(DIR_R,'SVM_wv_ave','1550403530.1539905','results.pickle'))\n",
    "r_svm_wv_sum = pd.read_pickle(os.path.join(DIR_R,'SVM_wv_sum','1550409997.5557647','results.pickle'))\n",
    "\n",
    "r_LSTM_gl = pd.read_pickle(os.path.join(DIR_R,'LSTM','1550329982.4304636','results.pickle'))\n",
    "r_BiLSTM_gl = pd.read_pickle(os.path.join(DIR_R,'BiLSTM','1550319237.2569127','results.pickle'))\n",
    "r_LSTM_BB_gl = pd.read_pickle(os.path.join(DIR_R,'LSTM_BB','1550268359.6594577','results.pickle'))\n",
    "r_BiLSTM_BB_gl = pd.read_pickle(os.path.join(DIR_R,'BiLSTM_BB','1550329994.6049144','results.pickle'))\n",
    "\n",
    "r_h_nb = pd.read_pickle(os.path.join(DIR_R,'h_NB','1550402819.825348','results.pickle'))\n",
    "r_h_svm_ft_ave = pd.read_pickle(os.path.join(DIR_R,'h_SVM_ft_ave','1550483076.7741613','results.pickle'))\n",
    "r_h_svm_ft_sum = pd.read_pickle(os.path.join(DIR_R,'h_SVM_ft_sum','1550353778.186649','results.pickle'))\n",
    "r_h_svm_gl_ave = pd.read_pickle(os.path.join(DIR_R,'h_SVM_gl_ave','1550531448.2867877','results.pickle'))\n",
    "r_h_svm_gl_sum = pd.read_pickle(os.path.join(DIR_R,'h_SVM_gl_sum','1550531437.927485','results.pickle'))\n",
    "r_h_svm_wv_ave = pd.read_pickle(os.path.join(DIR_R,'h_SVM_wv_ave','1550531200.3447447','results.pickle'))\n",
    "r_h_svm_wv_sum = pd.read_pickle(os.path.join(DIR_R,'h_SVM_wv_sum','1550531200.345743','results.pickle'))\n",
    "\n",
    "r_h_LSTM_gl = pd.read_pickle(os.path.join(DIR_R,'h_LSTM','1550512559.2107618','results.pickle'))\n",
    "r_h_BiLSTM_gl = pd.read_pickle(os.path.join(DIR_R,'h_BiLSTM','1550527996.524387','results.pickle'))"
   ]
  },
  {
   "cell_type": "code",
   "execution_count": 6,
   "metadata": {
    "scrolled": true
   },
   "outputs": [],
   "source": [
    "# h_LSTM_gl = pd.read_csv(os.path.join(DIR_B,'h_LSTM','1550531621.821716','results.csv')).drop('Unnamed: 0', axis=1)\n",
    "# h_BiLSTM_gl = pd.read_csv(os.path.join(DIR_B,'h_BiLSTM','1550532003.3515894','results.csv')).drop('Unnamed: 0', axis=1)\n",
    "# h_LSTM_gl\n",
    "# h_LSTM_BB_gl = pd.read_pickle(os.path.join(DIR_B,'h_LSTM_BB','1550243466.050011','results.pickle'))\n",
    "# h_BiLSTM_BB_gl = pd.read_pickle(os.path.join(DIR_B,'h_BiLSTM_BB','1550507292.1860704','results.pickle'))"
   ]
  },
  {
   "cell_type": "code",
   "execution_count": 116,
   "metadata": {},
   "outputs": [],
   "source": [
    "res_retail_full = pd.concat([r_nb, \n",
    "                           r_svm_ft_ave, r_svm_ft_sum, r_svm_gl_ave, r_svm_gl_sum, r_svm_wv_ave, r_svm_wv_sum,\n",
    "                           r_LSTM_gl, r_BiLSTM_gl, r_LSTM_BB_gl, r_BiLSTM_BB_gl,\n",
    "                           r_h_nb,\n",
    "                           r_h_svm_ft_ave, r_h_svm_ft_sum, \n",
    "                            r_h_svm_gl_ave, r_h_svm_gl_sum, \n",
    "                            r_h_svm_wv_ave, r_h_svm_wv_sum,\n",
    "                           r_h_LSTM_gl, r_h_BiLSTM_gl])"
   ]
  },
  {
   "cell_type": "code",
   "execution_count": 117,
   "metadata": {},
   "outputs": [
    {
     "name": "stdout",
     "output_type": "stream",
     "text": [
      "\\begin{tabular}{lrrrrrr}\n",
      "\\toprule\n",
      "{} &  F1\\_test &  F1\\_train &  P\\_test &  P\\_train &  R\\_test &  R\\_train \\\\\n",
      "model        &          &           &         &          &         &          \\\\\n",
      "\\midrule\n",
      "NB           &    0.287 &     0.371 &   0.344 &    0.487 &   0.298 &    0.372 \\\\\n",
      "SVM\\_ft\\_ave   &    0.711 &     0.966 &   0.769 &    0.959 &   0.710 &    0.976 \\\\\n",
      "SVM\\_ft\\_sum   &    0.681 &     1.000 &   0.744 &    1.000 &   0.678 &    1.000 \\\\\n",
      "SVM\\_gl\\_ave   &    0.645 &     0.994 &   0.696 &    0.992 &   0.645 &    0.996 \\\\\n",
      "SVM\\_gl\\_sum   &    0.611 &     0.995 &   0.672 &    0.994 &   0.612 &    0.996 \\\\\n",
      "SVM\\_wv\\_ave   &    0.679 &     0.994 &   0.734 &    0.993 &   0.673 &    0.996 \\\\\n",
      "SVM\\_wv\\_sum   &    0.692 &     0.958 &   0.759 &    0.950 &   0.690 &    0.971 \\\\\n",
      "LSTM         &    0.653 &     1.000 &   0.708 &    1.000 &   0.645 &    1.000 \\\\\n",
      "BiLSTM       &    0.647 &     0.994 &   0.692 &    0.995 &   0.644 &    0.994 \\\\\n",
      "LSTM\\_BB      &    0.458 &     0.722 &   0.529 &    0.824 &   0.458 &    0.711 \\\\\n",
      "BiLSTM\\_BB    &    0.530 &     0.791 &   0.588 &    0.891 &   0.526 &    0.772 \\\\\n",
      "h\\_NB         &    0.206 &     0.264 &   0.246 &    0.354 &   0.223 &    0.275 \\\\\n",
      "h\\_SVM\\_ft\\_ave &    0.388 &     0.576 &   0.410 &    0.570 &   0.421 &    0.609 \\\\\n",
      "h\\_SVM\\_ft\\_sum &    0.368 &     0.537 &   0.387 &    0.546 &   0.415 &    0.570 \\\\\n",
      "h\\_SVM\\_gl\\_ave &    0.382 &     0.653 &   0.428 &    0.649 &   0.405 &    0.683 \\\\\n",
      "h\\_SVM\\_gl\\_sum &    0.359 &     0.550 &   0.385 &    0.544 &   0.397 &    0.587 \\\\\n",
      "h\\_SVM\\_wv\\_ave &    0.346 &     0.553 &   0.374 &    0.560 &   0.382 &    0.588 \\\\\n",
      "h\\_SVM\\_wv\\_sum &    0.418 &     0.605 &   0.444 &    0.608 &   0.453 &    0.638 \\\\\n",
      "h\\_LSTM       &    0.588 &     1.000 &   0.634 &    1.000 &   0.594 &    1.000 \\\\\n",
      "h\\_BiLSTM     &    0.532 &     0.993 &   0.596 &    0.996 &   0.521 &    0.991 \\\\\n",
      "\\bottomrule\n",
      "\\end{tabular}\n",
      "\n"
     ]
    },
    {
     "data": {
      "text/html": [
       "<div>\n",
       "<style scoped>\n",
       "    .dataframe tbody tr th:only-of-type {\n",
       "        vertical-align: middle;\n",
       "    }\n",
       "\n",
       "    .dataframe tbody tr th {\n",
       "        vertical-align: top;\n",
       "    }\n",
       "\n",
       "    .dataframe thead th {\n",
       "        text-align: right;\n",
       "    }\n",
       "</style>\n",
       "<table border=\"1\" class=\"dataframe\">\n",
       "  <thead>\n",
       "    <tr style=\"text-align: right;\">\n",
       "      <th></th>\n",
       "      <th>F1_test</th>\n",
       "      <th>F1_train</th>\n",
       "      <th>P_test</th>\n",
       "      <th>P_train</th>\n",
       "      <th>R_test</th>\n",
       "      <th>R_train</th>\n",
       "    </tr>\n",
       "    <tr>\n",
       "      <th>model</th>\n",
       "      <th></th>\n",
       "      <th></th>\n",
       "      <th></th>\n",
       "      <th></th>\n",
       "      <th></th>\n",
       "      <th></th>\n",
       "    </tr>\n",
       "  </thead>\n",
       "  <tbody>\n",
       "    <tr>\n",
       "      <th>NB</th>\n",
       "      <td>0.287</td>\n",
       "      <td>0.371</td>\n",
       "      <td>0.344</td>\n",
       "      <td>0.487</td>\n",
       "      <td>0.298</td>\n",
       "      <td>0.372</td>\n",
       "    </tr>\n",
       "    <tr>\n",
       "      <th>SVM_ft_ave</th>\n",
       "      <td>0.711</td>\n",
       "      <td>0.966</td>\n",
       "      <td>0.769</td>\n",
       "      <td>0.959</td>\n",
       "      <td>0.710</td>\n",
       "      <td>0.976</td>\n",
       "    </tr>\n",
       "    <tr>\n",
       "      <th>SVM_ft_sum</th>\n",
       "      <td>0.681</td>\n",
       "      <td>1.000</td>\n",
       "      <td>0.744</td>\n",
       "      <td>1.000</td>\n",
       "      <td>0.678</td>\n",
       "      <td>1.000</td>\n",
       "    </tr>\n",
       "    <tr>\n",
       "      <th>SVM_gl_ave</th>\n",
       "      <td>0.645</td>\n",
       "      <td>0.994</td>\n",
       "      <td>0.696</td>\n",
       "      <td>0.992</td>\n",
       "      <td>0.645</td>\n",
       "      <td>0.996</td>\n",
       "    </tr>\n",
       "    <tr>\n",
       "      <th>SVM_gl_sum</th>\n",
       "      <td>0.611</td>\n",
       "      <td>0.995</td>\n",
       "      <td>0.672</td>\n",
       "      <td>0.994</td>\n",
       "      <td>0.612</td>\n",
       "      <td>0.996</td>\n",
       "    </tr>\n",
       "    <tr>\n",
       "      <th>SVM_wv_ave</th>\n",
       "      <td>0.679</td>\n",
       "      <td>0.994</td>\n",
       "      <td>0.734</td>\n",
       "      <td>0.993</td>\n",
       "      <td>0.673</td>\n",
       "      <td>0.996</td>\n",
       "    </tr>\n",
       "    <tr>\n",
       "      <th>SVM_wv_sum</th>\n",
       "      <td>0.692</td>\n",
       "      <td>0.958</td>\n",
       "      <td>0.759</td>\n",
       "      <td>0.950</td>\n",
       "      <td>0.690</td>\n",
       "      <td>0.971</td>\n",
       "    </tr>\n",
       "    <tr>\n",
       "      <th>LSTM</th>\n",
       "      <td>0.653</td>\n",
       "      <td>1.000</td>\n",
       "      <td>0.708</td>\n",
       "      <td>1.000</td>\n",
       "      <td>0.645</td>\n",
       "      <td>1.000</td>\n",
       "    </tr>\n",
       "    <tr>\n",
       "      <th>BiLSTM</th>\n",
       "      <td>0.647</td>\n",
       "      <td>0.994</td>\n",
       "      <td>0.692</td>\n",
       "      <td>0.995</td>\n",
       "      <td>0.644</td>\n",
       "      <td>0.994</td>\n",
       "    </tr>\n",
       "    <tr>\n",
       "      <th>LSTM_BB</th>\n",
       "      <td>0.458</td>\n",
       "      <td>0.722</td>\n",
       "      <td>0.529</td>\n",
       "      <td>0.824</td>\n",
       "      <td>0.458</td>\n",
       "      <td>0.711</td>\n",
       "    </tr>\n",
       "    <tr>\n",
       "      <th>BiLSTM_BB</th>\n",
       "      <td>0.530</td>\n",
       "      <td>0.791</td>\n",
       "      <td>0.588</td>\n",
       "      <td>0.891</td>\n",
       "      <td>0.526</td>\n",
       "      <td>0.772</td>\n",
       "    </tr>\n",
       "    <tr>\n",
       "      <th>h_NB</th>\n",
       "      <td>0.206</td>\n",
       "      <td>0.264</td>\n",
       "      <td>0.246</td>\n",
       "      <td>0.354</td>\n",
       "      <td>0.223</td>\n",
       "      <td>0.275</td>\n",
       "    </tr>\n",
       "    <tr>\n",
       "      <th>h_SVM_ft_ave</th>\n",
       "      <td>0.388</td>\n",
       "      <td>0.576</td>\n",
       "      <td>0.410</td>\n",
       "      <td>0.570</td>\n",
       "      <td>0.421</td>\n",
       "      <td>0.609</td>\n",
       "    </tr>\n",
       "    <tr>\n",
       "      <th>h_SVM_ft_sum</th>\n",
       "      <td>0.368</td>\n",
       "      <td>0.537</td>\n",
       "      <td>0.387</td>\n",
       "      <td>0.546</td>\n",
       "      <td>0.415</td>\n",
       "      <td>0.570</td>\n",
       "    </tr>\n",
       "    <tr>\n",
       "      <th>h_SVM_gl_ave</th>\n",
       "      <td>0.382</td>\n",
       "      <td>0.653</td>\n",
       "      <td>0.428</td>\n",
       "      <td>0.649</td>\n",
       "      <td>0.405</td>\n",
       "      <td>0.683</td>\n",
       "    </tr>\n",
       "    <tr>\n",
       "      <th>h_SVM_gl_sum</th>\n",
       "      <td>0.359</td>\n",
       "      <td>0.550</td>\n",
       "      <td>0.385</td>\n",
       "      <td>0.544</td>\n",
       "      <td>0.397</td>\n",
       "      <td>0.587</td>\n",
       "    </tr>\n",
       "    <tr>\n",
       "      <th>h_SVM_wv_ave</th>\n",
       "      <td>0.346</td>\n",
       "      <td>0.553</td>\n",
       "      <td>0.374</td>\n",
       "      <td>0.560</td>\n",
       "      <td>0.382</td>\n",
       "      <td>0.588</td>\n",
       "    </tr>\n",
       "    <tr>\n",
       "      <th>h_SVM_wv_sum</th>\n",
       "      <td>0.418</td>\n",
       "      <td>0.605</td>\n",
       "      <td>0.444</td>\n",
       "      <td>0.608</td>\n",
       "      <td>0.453</td>\n",
       "      <td>0.638</td>\n",
       "    </tr>\n",
       "    <tr>\n",
       "      <th>h_LSTM</th>\n",
       "      <td>0.588</td>\n",
       "      <td>1.000</td>\n",
       "      <td>0.634</td>\n",
       "      <td>1.000</td>\n",
       "      <td>0.594</td>\n",
       "      <td>1.000</td>\n",
       "    </tr>\n",
       "    <tr>\n",
       "      <th>h_BiLSTM</th>\n",
       "      <td>0.532</td>\n",
       "      <td>0.993</td>\n",
       "      <td>0.596</td>\n",
       "      <td>0.996</td>\n",
       "      <td>0.521</td>\n",
       "      <td>0.991</td>\n",
       "    </tr>\n",
       "  </tbody>\n",
       "</table>\n",
       "</div>"
      ],
      "text/plain": [
       "              F1_test  F1_train  P_test  P_train  R_test  R_train\n",
       "model                                                            \n",
       "NB              0.287     0.371   0.344    0.487   0.298    0.372\n",
       "SVM_ft_ave      0.711     0.966   0.769    0.959   0.710    0.976\n",
       "SVM_ft_sum      0.681     1.000   0.744    1.000   0.678    1.000\n",
       "SVM_gl_ave      0.645     0.994   0.696    0.992   0.645    0.996\n",
       "SVM_gl_sum      0.611     0.995   0.672    0.994   0.612    0.996\n",
       "SVM_wv_ave      0.679     0.994   0.734    0.993   0.673    0.996\n",
       "SVM_wv_sum      0.692     0.958   0.759    0.950   0.690    0.971\n",
       "LSTM            0.653     1.000   0.708    1.000   0.645    1.000\n",
       "BiLSTM          0.647     0.994   0.692    0.995   0.644    0.994\n",
       "LSTM_BB         0.458     0.722   0.529    0.824   0.458    0.711\n",
       "BiLSTM_BB       0.530     0.791   0.588    0.891   0.526    0.772\n",
       "h_NB            0.206     0.264   0.246    0.354   0.223    0.275\n",
       "h_SVM_ft_ave    0.388     0.576   0.410    0.570   0.421    0.609\n",
       "h_SVM_ft_sum    0.368     0.537   0.387    0.546   0.415    0.570\n",
       "h_SVM_gl_ave    0.382     0.653   0.428    0.649   0.405    0.683\n",
       "h_SVM_gl_sum    0.359     0.550   0.385    0.544   0.397    0.587\n",
       "h_SVM_wv_ave    0.346     0.553   0.374    0.560   0.382    0.588\n",
       "h_SVM_wv_sum    0.418     0.605   0.444    0.608   0.453    0.638\n",
       "h_LSTM          0.588     1.000   0.634    1.000   0.594    1.000\n",
       "h_BiLSTM        0.532     0.993   0.596    0.996   0.521    0.991"
      ]
     },
     "execution_count": 117,
     "metadata": {},
     "output_type": "execute_result"
    }
   ],
   "source": [
    "rrf = res_retail_full.set_index('model').round(3)[['F1_test', 'F1_train','P_test','P_train','R_test','R_train']]\n",
    "print(rrf.to_latex())\n",
    "rrf"
   ]
  },
  {
   "cell_type": "markdown",
   "metadata": {},
   "source": [
    "#### Cross validation"
   ]
  },
  {
   "cell_type": "code",
   "execution_count": 119,
   "metadata": {},
   "outputs": [],
   "source": [
    "DIR_CV_R = os.path.join(DIR_R, 'cv')"
   ]
  },
  {
   "cell_type": "code",
   "execution_count": 121,
   "metadata": {},
   "outputs": [],
   "source": [
    "r_cv_lstm_gl = pd.read_pickle(os.path.join(DIR_CV_R,'LSTM','1550268572.5299306','df_res_cv.pickle'))\n",
    "r_cv_bilstm_gl = pd.read_pickle(os.path.join(DIR_CV_R,'BiLSTM','1550310504.8524241','df_res_cv.pickle'))\n",
    "r_cv_lstm_bb_gl = pd.read_pickle(os.path.join(DIR_CV_R,'LSTM_BB','1550268359.6594577','df_res_cv.pickle'))\n",
    "r_cv_bilstm_bb_gl = pd.read_pickle(os.path.join(DIR_CV_R,'BiLSTM_BB','1550252468.029084','df_res_cv.pickle'))\n",
    "\n",
    "r_cv_h_lstm_gl = pd.read_pickle(os.path.join(DIR_CV_R,'h_LSTM','1550512559.2107618','df_res_cv.pickle'))\n",
    "r_cv_h_bilstm_gl = pd.read_pickle(os.path.join(DIR_CV_R,'h_BiLSTM','1550527996.524387','df_res_cv.pickle'))\n",
    "# cv_h_lstm_bb_gl = pd.read_pickle(os.path.join(DIR_CV_R,'h_LSTM_BB','1550243466.050011','df_res_cv.pickle'))\n",
    "# cv_h_bilstm_bb_gl = pd.read_pickle(os.path.join(DIR_CV_R,'h_BiLSTM_BB','1550244682.9822152','df_res_cv.pickle'))"
   ]
  },
  {
   "cell_type": "code",
   "execution_count": 11,
   "metadata": {},
   "outputs": [],
   "source": [
    "# per model\n",
    "# table to latex\n",
    "# heatmap"
   ]
  },
  {
   "cell_type": "code",
   "execution_count": 122,
   "metadata": {},
   "outputs": [
    {
     "name": "stdout",
     "output_type": "stream",
     "text": [
      "LSTM\n",
      "0.5819158233654529\n",
      "\\begin{tabular}{lrrrr}\n",
      "\\toprule\n",
      "word\\_dim &  50.0  &  100.0 &  200.0 &  300.0 \\\\\n",
      "h\\_dim &        &        &        &        \\\\\n",
      "\\midrule\n",
      "25.0  &  0.309 &  0.395 &  0.437 &  0.466 \\\\\n",
      "50.0  &  0.419 &  0.469 &  0.520 &  0.550 \\\\\n",
      "75.0  &  0.496 &  0.509 &  0.530 &  0.573 \\\\\n",
      "100.0 &  0.510 &  0.526 &  0.552 &  0.564 \\\\\n",
      "150.0 &  0.519 &  0.523 &  0.562 &  0.582 \\\\\n",
      "200.0 &  0.503 &  0.530 &  0.545 &  0.570 \\\\\n",
      "300.0 &  0.467 &  0.495 &  0.535 &  0.566 \\\\\n",
      "\\bottomrule\n",
      "\\end{tabular}\n",
      "\n"
     ]
    }
   ],
   "source": [
    "print('LSTM')\n",
    "print(max(r_cv_lstm_gl['F1_valid']))\n",
    "print(r_cv_lstm_gl['F1_valid'].unstack().T.round(3).to_latex())\n",
    "# https://pandas.pydata.org/pandas-docs/stable/reference/api/pandas.DataFrame.to_latex.html"
   ]
  },
  {
   "cell_type": "code",
   "execution_count": 123,
   "metadata": {},
   "outputs": [
    {
     "name": "stdout",
     "output_type": "stream",
     "text": [
      "0.5763902065173658\n",
      "\\begin{tabular}{lrrrr}\n",
      "\\toprule\n",
      "word\\_dim &  50.0  &  100.0 &  200.0 &  300.0 \\\\\n",
      "h\\_dim &        &        &        &        \\\\\n",
      "\\midrule\n",
      "25.0  &  0.452 &  0.509 &  0.540 &  0.550 \\\\\n",
      "50.0  &  0.500 &  0.539 &  0.551 &  0.576 \\\\\n",
      "75.0  &  0.527 &  0.519 &  0.565 &  0.558 \\\\\n",
      "100.0 &  0.504 &  0.534 &  0.552 &  0.568 \\\\\n",
      "150.0 &  0.476 &  0.507 &  0.558 &  0.569 \\\\\n",
      "200.0 &  0.480 &  0.520 &  0.548 &  0.569 \\\\\n",
      "300.0 &  0.477 &  0.474 &  0.543 &  0.536 \\\\\n",
      "\\bottomrule\n",
      "\\end{tabular}\n",
      "\n"
     ]
    }
   ],
   "source": [
    "print(max(r_cv_bilstm_gl['F1_valid']))\n",
    "print(r_cv_bilstm_gl['F1_valid'].unstack().T.round(3).to_latex())"
   ]
  },
  {
   "cell_type": "code",
   "execution_count": 124,
   "metadata": {},
   "outputs": [
    {
     "name": "stdout",
     "output_type": "stream",
     "text": [
      "0.4306747805206516\n",
      "\\begin{tabular}{lrrrr}\n",
      "\\toprule\n",
      "word\\_dim &  50.0  &  100.0 &  200.0 &  300.0 \\\\\n",
      "h\\_dim &        &        &        &        \\\\\n",
      "\\midrule\n",
      "25.0  &  0.191 &  0.219 &  0.241 &  0.249 \\\\\n",
      "50.0  &  0.242 &  0.287 &  0.301 &  0.304 \\\\\n",
      "75.0  &  0.260 &  0.308 &  0.316 &  0.348 \\\\\n",
      "100.0 &  0.265 &  0.314 &  0.342 &  0.383 \\\\\n",
      "150.0 &  0.284 &  0.340 &  0.385 &  0.406 \\\\\n",
      "200.0 &  0.310 &  0.362 &  0.401 &  0.425 \\\\\n",
      "300.0 &  0.305 &  0.387 &  0.416 &  0.431 \\\\\n",
      "\\bottomrule\n",
      "\\end{tabular}\n",
      "\n"
     ]
    }
   ],
   "source": [
    "print(max(r_cv_lstm_bb_gl['F1_valid']))\n",
    "print(r_cv_lstm_bb_gl['F1_valid'].unstack().T.round(3).to_latex())"
   ]
  },
  {
   "cell_type": "code",
   "execution_count": 125,
   "metadata": {},
   "outputs": [
    {
     "name": "stdout",
     "output_type": "stream",
     "text": [
      "0.4782041839495488\n",
      "\\begin{tabular}{lrrrr}\n",
      "\\toprule\n",
      "word\\_dim &  50.0  &  100.0 &  200.0 &  300.0 \\\\\n",
      "h\\_dim &        &        &        &        \\\\\n",
      "\\midrule\n",
      "25.0  &  0.255 &  0.295 &  0.330 &  0.333 \\\\\n",
      "50.0  &  0.300 &  0.342 &  0.373 &  0.404 \\\\\n",
      "75.0  &  0.317 &  0.379 &  0.412 &  0.428 \\\\\n",
      "100.0 &  0.335 &  0.388 &  0.420 &  0.439 \\\\\n",
      "150.0 &  0.350 &  0.414 &  0.438 &  0.448 \\\\\n",
      "200.0 &  0.357 &  0.416 &  0.438 &  0.458 \\\\\n",
      "300.0 &  0.354 &  0.420 &  0.453 &  0.478 \\\\\n",
      "\\bottomrule\n",
      "\\end{tabular}\n",
      "\n"
     ]
    }
   ],
   "source": [
    "print(max(r_cv_bilstm_bb_gl['F1_valid']))\n",
    "print(r_cv_bilstm_bb_gl['F1_valid'].unstack().T.round(3).to_latex())"
   ]
  },
  {
   "cell_type": "code",
   "execution_count": 126,
   "metadata": {},
   "outputs": [
    {
     "name": "stdout",
     "output_type": "stream",
     "text": [
      "0.5206393403171296\n",
      "\\begin{tabular}{lrrrr}\n",
      "\\toprule\n",
      "word\\_dim &  50.0  &  100.0 &  200.0 &  300.0 \\\\\n",
      "h\\_dim &        &        &        &        \\\\\n",
      "\\midrule\n",
      "25.0  &  0.323 &  0.371 &  0.419 &  0.432 \\\\\n",
      "50.0  &  0.376 &  0.467 &  0.480 &  0.497 \\\\\n",
      "75.0  &  0.445 &  0.470 &  0.486 &  0.505 \\\\\n",
      "100.0 &  0.439 &  0.480 &  0.503 &  0.519 \\\\\n",
      "150.0 &  0.473 &  0.490 &  0.511 &  0.521 \\\\\n",
      "200.0 &  0.441 &  0.497 &  0.492 &  0.510 \\\\\n",
      "300.0 &  0.436 &  0.486 &  0.520 &  0.511 \\\\\n",
      "\\bottomrule\n",
      "\\end{tabular}\n",
      "\n"
     ]
    }
   ],
   "source": [
    "print(max(r_cv_h_lstm_gl['F1_valid']))\n",
    "print(r_cv_h_lstm_gl['F1_valid'].unstack().T.round(3).to_latex())"
   ]
  },
  {
   "cell_type": "code",
   "execution_count": 127,
   "metadata": {},
   "outputs": [
    {
     "name": "stdout",
     "output_type": "stream",
     "text": [
      "0.5314709624593936\n",
      "\\begin{tabular}{lrrrr}\n",
      "\\toprule\n",
      "word\\_dim &  50.0  &  100.0 &  200.0 &  300.0 \\\\\n",
      "h\\_dim &        &        &        &        \\\\\n",
      "\\midrule\n",
      "25.0  &  0.396 &  0.479 &  0.476 &  0.504 \\\\\n",
      "50.0  &  0.458 &  0.498 &  0.531 &  0.514 \\\\\n",
      "75.0  &  0.476 &  0.481 &  0.522 &  0.519 \\\\\n",
      "100.0 &  0.466 &  0.476 &  0.527 &  0.528 \\\\\n",
      "150.0 &  0.440 &  0.504 &  0.495 &  0.513 \\\\\n",
      "200.0 &  0.424 &  0.498 &  0.519 &  0.506 \\\\\n",
      "300.0 &  0.420 &  0.473 &  0.497 &  0.516 \\\\\n",
      "\\bottomrule\n",
      "\\end{tabular}\n",
      "\n"
     ]
    }
   ],
   "source": [
    "print(max(r_cv_h_bilstm_gl['F1_valid']))\n",
    "print(r_cv_h_bilstm_gl['F1_valid'].unstack().T.round(3).to_latex())"
   ]
  },
  {
   "cell_type": "markdown",
   "metadata": {},
   "source": [
    "### Intents"
   ]
  },
  {
   "cell_type": "code",
   "execution_count": 132,
   "metadata": {},
   "outputs": [],
   "source": [
    "DIR_INT_R = os.path.join(DIR_R, 'intent')"
   ]
  },
  {
   "cell_type": "code",
   "execution_count": 133,
   "metadata": {},
   "outputs": [
    {
     "name": "stdout",
     "output_type": "stream",
     "text": [
      "\\begin{tabular}{lrrrrrrrrrr}\n",
      "\\toprule\n",
      "n\\_intent &   5.0  &   10.0 &   15.0 &   20.0 &   25.0 &   30.0 &   35.0 &   40.0 &   45.0 &   50.0 \\\\\n",
      "\\midrule\n",
      "NB         &  0.775 &  0.537 &  0.461 &  0.386 &  0.410 &  0.324 &  0.347 &  0.330 &  0.328 &  0.287 \\\\\n",
      "SVM\\_ft\\_ave &  0.896 &  0.850 &  0.851 &  0.781 &  0.762 &  0.757 &  0.763 &  0.756 &  0.714 &  0.708 \\\\\n",
      "SVM\\_ft\\_sum &  0.886 &  0.894 &  0.818 &  0.784 &  0.767 &  0.761 &  0.755 &  0.744 &  0.712 &  0.697 \\\\\n",
      "SVM\\_gl\\_sum &  0.869 &  0.832 &  0.779 &  0.759 &  0.736 &  0.728 &  0.727 &  0.695 &  0.648 &  0.635 \\\\\n",
      "SVM\\_wv\\_ave &  0.907 &  0.839 &  0.829 &  0.778 &  0.759 &  0.749 &  0.736 &  0.732 &  0.696 &  0.689 \\\\\n",
      "SVM\\_wv\\_sum &  0.900 &  0.850 &  0.798 &  0.775 &  0.753 &  0.753 &  0.755 &  0.740 &  0.697 &  0.695 \\\\\n",
      "LSTM\\_gl    &  0.855 &  0.794 &  0.744 &  0.725 &  0.715 &  0.699 &  0.683 &  0.693 &  0.665 &  0.665 \\\\\n",
      "BiLSTM\\_gl  &  0.872 &  0.787 &  0.767 &  0.714 &  0.716 &  0.680 &  0.696 &  0.682 &  0.668 &  0.651 \\\\\n",
      "LSTM\\_BB    &  0.849 &  0.693 &  0.657 &  0.645 &  0.577 &  0.553 &  0.549 &  0.525 &  0.488 &  0.481 \\\\\n",
      "BiLSTM\\_BB  &  0.842 &  0.742 &  0.710 &  0.682 &  0.651 &  0.638 &  0.611 &  0.588 &  0.558 &  0.550 \\\\\n",
      "\\bottomrule\n",
      "\\end{tabular}\n",
      "\n"
     ]
    }
   ],
   "source": [
    "r_int_nb = pd.read_pickle(os.path.join(DIR_INT_R,'NB','1550400707.1403997','df_res_int.pickle'))\n",
    "\n",
    "\n",
    "r_int_svm_ft_ave = pd.read_pickle(os.path.join(DIR_INT_R,'SVM_ft_ave','1550403366.2854228','df_res_int.pickle'))\n",
    "r_int_svm_ft_sum = pd.read_pickle(os.path.join(DIR_INT_R,'SVM_ft_sum','1550412052.979501','df_res_int.pickle'))\n",
    "r_int_svm_gl_ave = pd.read_pickle(os.path.join(DIR_INT_R,'SVM_gl_ave','1550403480.6895697','df_res_int.pickle'))\n",
    "r_int_svm_gl_sum = pd.read_pickle(os.path.join(DIR_INT_R,'SVM_gl_sum','1550410014.763635','df_res_int.pickle'))\n",
    "r_int_svm_wv_ave = pd.read_pickle(os.path.join(DIR_INT_R,'SVM_wv_ave','1550403530.1539905','df_res_int.pickle'))\n",
    "r_int_svm_wv_sum = pd.read_pickle(os.path.join(DIR_INT_R,'SVM_wv_sum','1550409997.5557647','df_res_int.pickle'))\n",
    "\n",
    "r_int_LSTM_gl = pd.read_pickle(os.path.join(DIR_INT_R,'LSTM','1550486902.3921034','df_res_int.pickle'))\n",
    "r_int_BiLSTM_gl = pd.read_pickle(os.path.join(DIR_INT_R,'BiLSTM','1550486960.8885586','df_res_int.pickle'))\n",
    "r_int_LSTM_BB_gl = pd.read_pickle(os.path.join(DIR_INT_R,'LSTM_BB','1550500077.4428525','df_res_int.pickle'))\n",
    "r_int_BiLSTM_BB_gl = pd.read_pickle(os.path.join(DIR_INT_R,'BiLSTM_BB','1550500095.855664','df_res_int.pickle'))\n",
    "\n",
    "res_int_r = pd.DataFrame(\n",
    "    {'NB':r_int_nb.groupby(by=['n_intent'])['F1_test'].mean(),\n",
    "    'NB_std':r_int_nb.groupby(by=['n_intent'])['F1_test'].std(),\n",
    "     'SVM_ft_ave':r_int_svm_ft_ave.groupby(by=['n_intent'])['F1_test'].mean(),\n",
    "    'SVM_ft_ave_std':r_int_svm_ft_ave.groupby(by=['n_intent'])['F1_test'].std(),\n",
    "     'SVM_ft_sum':r_int_svm_ft_sum.groupby(by=['n_intent'])['F1_test'].mean(),\n",
    "    'SVM_ft_sum_std':r_int_svm_ft_sum.groupby(by=['n_intent'])['F1_test'].std(),\n",
    "    'SVM_gl_ave_std':r_int_svm_gl_ave.groupby(by=['n_intent'])['F1_test'].std(),\n",
    "    'SVM_gl_ave_std':r_int_svm_gl_ave.groupby(by=['n_intent'])['F1_test'].std(),\n",
    "     'SVM_gl_sum':r_int_svm_gl_sum.groupby(by=['n_intent'])['F1_test'].mean(),\n",
    "    'SVM_gl_sum_std':r_int_svm_gl_sum.groupby(by=['n_intent'])['F1_test'].std(),\n",
    "     'SVM_wv_ave':r_int_svm_wv_ave.groupby(by=['n_intent'])['F1_test'].mean(),\n",
    "    'SVM_wv_ave_std':r_int_svm_wv_ave.groupby(by=['n_intent'])['F1_test'].std(),\n",
    "     'SVM_wv_sum':r_int_svm_wv_sum.groupby(by=['n_intent'])['F1_test'].mean(),\n",
    "    'SVM_wv_sum_std':r_int_svm_wv_sum.groupby(by=['n_intent'])['F1_test'].std(),\n",
    "     'LSTM_gl':r_int_LSTM_gl.groupby(by=['n_intent'])['F1_test'].mean(),\n",
    "    'LSTM_gl_std':r_int_LSTM_gl.groupby(by=['n_intent'])['F1_test'].std(),\n",
    "     'BiLSTM_gl':r_int_BiLSTM_gl.groupby(by=['n_intent'])['F1_test'].mean(),\n",
    "    'BiLSTM_std':r_int_BiLSTM_gl.groupby(by=['n_intent'])['F1_test'].std(),\n",
    "     'LSTM_BB':r_int_LSTM_BB_gl.groupby(by=['n_intent'])['F1_test'].mean(),\n",
    "    'LSTM_BB_std':r_int_LSTM_BB_gl.groupby(by=['n_intent'])['F1_test'].std(),\n",
    "     'BiLSTM_BB':r_int_BiLSTM_BB_gl.groupby(by=['n_intent'])['F1_test'].mean(),\n",
    "    'BiLSTM_BB_std':r_int_BiLSTM_BB_gl.groupby(by=['n_intent'])['F1_test'].std()\n",
    "    })\n",
    "\n",
    "# drop n_intents in [2,3,4]\n",
    "# res_int_r.drop(res_int_r.index[0:3], inplace=True)\n",
    "\n",
    "print(res_int_r.filter(regex='^((?!std).)*$', axis=1).round(3).T.to_latex())"
   ]
  },
  {
   "cell_type": "code",
   "execution_count": 134,
   "metadata": {},
   "outputs": [
    {
     "data": {
      "image/png": "[encoded data removed]",
      "text/plain": [
       "<Figure size 1080x540 with 1 Axes>"
      ]
     },
     "metadata": {
      "needs_background": "light"
     },
     "output_type": "display_data"
    }
   ],
   "source": [
    "# plt.errorbar()\n",
    "fix,ax = plt.subplots(figsize=(15,7.5))\n",
    "res_int_r.filter(regex='^((?!std).)*$', axis=1).plot(ax=ax).legend(loc='center left', bbox_to_anchor=(1, 0.5), prop={'size':15})\n",
    "# res_int.filter(regex='.*std', axis=1)\n",
    "plt.savefig('Retail_intent.png', bbox_inches='tight')"
   ]
  },
  {
   "cell_type": "code",
   "execution_count": 135,
   "metadata": {
    "scrolled": true
   },
   "outputs": [
    {
     "name": "stdout",
     "output_type": "stream",
     "text": [
      "\\begin{tabular}{lrrrrrrrrrr}\n",
      "\\toprule\n",
      "n\\_intent &   5.0  &   10.0 &   15.0 &   20.0 &   25.0 &   30.0 &   35.0 &   40.0 &   45.0 &   50.0 \\\\\n",
      "\\midrule\n",
      "NB\\_std         &  0.164 &  0.078 &  0.063 &  0.063 &  0.041 &  0.063 &  0.035 &  0.026 &  0.018 &  0.014 \\\\\n",
      "SVM\\_ft\\_ave\\_std &  0.077 &  0.093 &  0.050 &  0.052 &  0.056 &  0.044 &  0.028 &  0.029 &  0.022 &  0.012 \\\\\n",
      "SVM\\_ft\\_sum\\_std &  0.100 &  0.072 &  0.059 &  0.033 &  0.048 &  0.026 &  0.026 &  0.024 &  0.021 &  0.014 \\\\\n",
      "SVM\\_gl\\_ave\\_std &  0.090 &  0.077 &  0.055 &  0.039 &  0.049 &  0.038 &  0.030 &  0.028 &  0.031 &  0.013 \\\\\n",
      "SVM\\_gl\\_sum\\_std &  0.102 &  0.090 &  0.072 &  0.041 &  0.047 &  0.037 &  0.031 &  0.023 &  0.034 &  0.016 \\\\\n",
      "SVM\\_wv\\_ave\\_std &  0.067 &  0.080 &  0.059 &  0.038 &  0.047 &  0.042 &  0.026 &  0.029 &  0.029 &  0.013 \\\\\n",
      "SVM\\_wv\\_sum\\_std &  0.070 &  0.071 &  0.043 &  0.031 &  0.051 &  0.040 &  0.022 &  0.024 &  0.028 &  0.018 \\\\\n",
      "LSTM\\_gl\\_std    &  0.144 &  0.071 &  0.059 &  0.042 &  0.038 &  0.051 &  0.043 &  0.030 &  0.025 &  0.032 \\\\\n",
      "BiLSTM\\_std     &  0.095 &  0.085 &  0.038 &  0.058 &  0.050 &  0.040 &  0.031 &  0.026 &  0.027 &  0.022 \\\\\n",
      "LSTM\\_BB\\_std    &  0.137 &  0.084 &  0.055 &  0.076 &  0.057 &  0.047 &  0.045 &  0.033 &  0.027 &  0.020 \\\\\n",
      "BiLSTM\\_BB\\_std  &  0.120 &  0.088 &  0.064 &  0.067 &  0.040 &  0.039 &  0.044 &  0.024 &  0.036 &  0.019 \\\\\n",
      "\\bottomrule\n",
      "\\end{tabular}\n",
      "\n"
     ]
    }
   ],
   "source": [
    "# latex std of test F1 intent braun\n",
    "print(res_int_r.filter(regex='.*std', axis=1).round(3).T.to_latex())"
   ]
  },
  {
   "cell_type": "markdown",
   "metadata": {},
   "source": [
    "### Vary Training Observations"
   ]
  },
  {
   "cell_type": "code",
   "execution_count": 138,
   "metadata": {},
   "outputs": [],
   "source": [
    "DIR_OBS_R = os.path.join(DIR_R, 'vary_obs')"
   ]
  },
  {
   "cell_type": "code",
   "execution_count": 147,
   "metadata": {},
   "outputs": [
    {
     "name": "stdout",
     "output_type": "stream",
     "text": [
      "\\begin{tabular}{lrrrr}\n",
      "\\toprule\n",
      "n\\_obs &   20.0 &   40.0 &   60.0 &   80.0 \\\\\n",
      "\\midrule\n",
      "NB          &  0.114 &  0.165 &  0.198 &  0.260 \\\\\n",
      "SVM\\_ft\\_ave  &  0.406 &  0.550 &  0.608 &  0.659 \\\\\n",
      "SVM\\_ft\\_sum  &  0.374 &  0.526 &  0.605 &  0.660 \\\\\n",
      "SVM\\_gl\\_sum  &  0.334 &  0.491 &  0.568 &  0.635 \\\\\n",
      "SVM\\_wv\\_ave  &  0.406 &  0.539 &  0.598 &  0.639 \\\\\n",
      "SVM\\_wv\\_sum  &  0.380 &  0.525 &  0.604 &  0.655 \\\\\n",
      "LSTM\\_gl     &  0.283 &  0.430 &  0.533 &  0.600 \\\\\n",
      "BiLSTM\\_gl   &  0.285 &  0.423 &  0.526 &  0.605 \\\\\n",
      "LSTM\\_BB     &  0.208 &  0.312 &  0.393 &  0.425 \\\\\n",
      "BiLSTM\\_BB   &  0.242 &  0.365 &  0.461 &  0.495 \\\\\n",
      "h\\_LSTM\\_gl   &  0.283 &  0.430 &  0.533 &  0.600 \\\\\n",
      "h\\_BiLSTM\\_gl &  0.285 &  0.423 &  0.526 &  0.605 \\\\\n",
      "\\bottomrule\n",
      "\\end{tabular}\n",
      "\n"
     ]
    }
   ],
   "source": [
    "r_obs_nb = pd.read_pickle(os.path.join(DIR_OBS_R,'NB','1550400707.1403997','df_res_obs.pickle'))\n",
    "\n",
    "r_obs_svm_ft_ave = pd.read_pickle(os.path.join(DIR_OBS_R,'SVM_ft_ave','1550403366.2854228','df_res_obs.pickle'))\n",
    "r_obs_svm_ft_sum = pd.read_pickle(os.path.join(DIR_OBS_R,'SVM_ft_sum','1550412052.979501','df_res_obs.pickle'))\n",
    "r_obs_svm_gl_ave = pd.read_pickle(os.path.join(DIR_OBS_R,'SVM_gl_ave','1550403480.6895697','df_res_obs.pickle'))\n",
    "r_obs_svm_gl_sum = pd.read_pickle(os.path.join(DIR_OBS_R,'SVM_gl_sum','1550410014.763635','df_res_obs.pickle'))\n",
    "r_obs_svm_wv_ave = pd.read_pickle(os.path.join(DIR_OBS_R,'SVM_wv_ave','1550403530.1539905','df_res_obs.pickle'))\n",
    "r_obs_svm_wv_sum = pd.read_pickle(os.path.join(DIR_OBS_R,'SVM_wv_sum','1550409997.5557647','df_res_obs.pickle'))\n",
    "\n",
    "r_obs_LSTM_gl = pd.read_pickle(os.path.join(DIR_OBS_R,'LSTM','1550329982.4304636','df_res_obs.pickle'))\n",
    "r_obs_BiLSTM_gl = pd.read_pickle(os.path.join(DIR_OBS_R,'BiLSTM','1550336001.9580138','df_res_obs.pickle'))\n",
    "r_obs_LSTM_BB_gl = pd.read_pickle(os.path.join(DIR_OBS_R,'LSTM_BB','1550339599.4361484','df_res_obs.pickle'))\n",
    "r_obs_BiLSTM_BB_gl = pd.read_pickle(os.path.join(DIR_OBS_R,'BiLSTM_BB','1550329994.6049144','df_res_obs.pickle'))\n",
    "r_obs_h_LSTM_gl = pd.read_pickle(os.path.join(DIR_OBS_R,'h_LSTM','1550512559.2107618','df_res_obs.pickle'))\n",
    "r_obs_h_BiLSTM_gl = pd.read_pickle(os.path.join(DIR_OBS_R,'h_BiLSTM','1550527996.524387','df_res_obs.pickle'))\n",
    "\n",
    "r_obs_nb\n",
    "\n",
    "res_obs_r = pd.DataFrame(\n",
    "    {'NB':r_obs_nb.groupby(by=['n_obs'])['F1_test'].mean(),\n",
    "    'NB_std':r_obs_nb.groupby(by=['n_obs'])['F1_test'].std(),\n",
    "     'SVM_ft_ave':r_obs_svm_ft_ave.groupby(by=['n_obs'])['F1_test'].mean(),\n",
    "    'SVM_ft_ave_std':r_obs_svm_ft_ave.groupby(by=['n_obs'])['F1_test'].std(),\n",
    "     'SVM_ft_sum':r_obs_svm_ft_sum.groupby(by=['n_obs'])['F1_test'].mean(),\n",
    "    'SVM_ft_sum_std':r_obs_svm_ft_sum.groupby(by=['n_obs'])['F1_test'].std(),\n",
    "    'SVM_gl_ave_std':r_obs_svm_gl_ave.groupby(by=['n_obs'])['F1_test'].std(),\n",
    "    'SVM_gl_ave_std':r_obs_svm_gl_ave.groupby(by=['n_obs'])['F1_test'].std(),\n",
    "     'SVM_gl_sum':r_obs_svm_gl_sum.groupby(by=['n_obs'])['F1_test'].mean(),\n",
    "    'SVM_gl_sum_std':r_obs_svm_gl_sum.groupby(by=['n_obs'])['F1_test'].std(),\n",
    "     'SVM_wv_ave':r_obs_svm_wv_ave.groupby(by=['n_obs'])['F1_test'].mean(),\n",
    "    'SVM_wv_ave_std':r_obs_svm_wv_ave.groupby(by=['n_obs'])['F1_test'].std(),\n",
    "     'SVM_wv_sum':r_obs_svm_wv_sum.groupby(by=['n_obs'])['F1_test'].mean(),\n",
    "    'SVM_wv_sum_std':r_obs_svm_wv_sum.groupby(by=['n_obs'])['F1_test'].std(),\n",
    "     'LSTM_gl':r_obs_LSTM_gl.groupby(by=['n_obs'])['F1_test'].mean(),\n",
    "    'LSTM_gl_std':r_obs_LSTM_gl.groupby(by=['n_obs'])['F1_test'].std(),\n",
    "     'BiLSTM_gl':r_obs_BiLSTM_gl.groupby(by=['n_obs'])['F1_test'].mean(),\n",
    "    'BiLSTM_std':r_obs_BiLSTM_gl.groupby(by=['n_obs'])['F1_test'].std(),\n",
    "     'LSTM_BB':r_obs_LSTM_BB_gl.groupby(by=['n_obs'])['F1_test'].mean(),\n",
    "    'LSTM_BB_std':r_obs_LSTM_BB_gl.groupby(by=['n_obs'])['F1_test'].std(),\n",
    "     'BiLSTM_BB':r_obs_BiLSTM_BB_gl.groupby(by=['n_obs'])['F1_test'].mean(),\n",
    "    'BiLSTM_BB_std':r_obs_BiLSTM_BB_gl.groupby(by=['n_obs'])['F1_test'].std(),\n",
    "     'h_LSTM_gl':r_obs_LSTM_gl.groupby(by=['n_obs'])['F1_test'].mean(),\n",
    "    'h_LSTM_gl_std':r_obs_LSTM_gl.groupby(by=['n_obs'])['F1_test'].std(),\n",
    "     'h_BiLSTM_gl':r_obs_BiLSTM_gl.groupby(by=['n_obs'])['F1_test'].mean(),\n",
    "    'h_BiLSTM_std':r_obs_BiLSTM_gl.groupby(by=['n_obs'])['F1_test'].std()\n",
    "    })\n",
    "\n",
    "# drop n_intents in [2,3,4]\n",
    "# res_int_r.drop(res_int_r.index[0:3], inplace=True)\n",
    "\n",
    "print(res_obs_r.filter(regex='^((?!std).)*$', axis=1).round(3).T.to_latex())"
   ]
  },
  {
   "cell_type": "code",
   "execution_count": 149,
   "metadata": {},
   "outputs": [
    {
     "data": {
      "image/png": "[encoded data removed]",
      "text/plain": [
       "<Figure size 1080x540 with 1 Axes>"
      ]
     },
     "metadata": {
      "needs_background": "light"
     },
     "output_type": "display_data"
    }
   ],
   "source": [
    "# plt.errorbar()\n",
    "fix,ax = plt.subplots(figsize=(15,7.5))\n",
    "res_obs_r.filter(regex='^((?!std).)*$', axis=1).plot(ax=ax).legend(loc='center left', bbox_to_anchor=(1, 0.5), prop={'size':15})\n",
    "# res_int.filter(regex='.*std', axis=1)\n",
    "plt.savefig('Retail_obs.png', bbox_inches='tight')"
   ]
  },
  {
   "cell_type": "code",
   "execution_count": 150,
   "metadata": {
    "scrolled": false
   },
   "outputs": [
    {
     "name": "stdout",
     "output_type": "stream",
     "text": [
      "\\begin{tabular}{lrrrr}\n",
      "\\toprule\n",
      "n\\_obs &   20.0 &   40.0 &   60.0 &   80.0 \\\\\n",
      "\\midrule\n",
      "NB\\_std         &  0.008 &  0.013 &  0.011 &  0.014 \\\\\n",
      "SVM\\_ft\\_ave\\_std &  0.039 &  0.029 &  0.026 &  0.016 \\\\\n",
      "SVM\\_ft\\_sum\\_std &  0.035 &  0.028 &  0.023 &  0.015 \\\\\n",
      "SVM\\_gl\\_ave\\_std &  0.039 &  0.031 &  0.025 &  0.028 \\\\\n",
      "SVM\\_gl\\_sum\\_std &  0.033 &  0.034 &  0.032 &  0.026 \\\\\n",
      "SVM\\_wv\\_ave\\_std &  0.025 &  0.030 &  0.021 &  0.016 \\\\\n",
      "SVM\\_wv\\_sum\\_std &  0.029 &  0.044 &  0.023 &  0.023 \\\\\n",
      "LSTM\\_gl\\_std    &  0.013 &  0.040 &  0.031 &  0.026 \\\\\n",
      "BiLSTM\\_std     &  0.021 &  0.031 &  0.029 &  0.027 \\\\\n",
      "LSTM\\_BB\\_std    &  0.031 &  0.020 &  0.027 &  0.010 \\\\\n",
      "BiLSTM\\_BB\\_std  &  0.026 &  0.031 &  0.023 &  0.015 \\\\\n",
      "h\\_LSTM\\_gl\\_std  &  0.013 &  0.040 &  0.031 &  0.026 \\\\\n",
      "h\\_BiLSTM\\_std   &  0.021 &  0.031 &  0.029 &  0.027 \\\\\n",
      "\\bottomrule\n",
      "\\end{tabular}\n",
      "\n"
     ]
    }
   ],
   "source": [
    "# latex std of test F1 intent braun\n",
    "print(res_obs_r.filter(regex='.*std', axis=1).round(3).T.to_latex())"
   ]
  }
 ],
 "metadata": {
  "kernelspec": {
   "display_name": "Python 3",
   "language": "python",
   "name": "python3"
  },
  "language_info": {
   "codemirror_mode": {
    "name": "ipython",
    "version": 3
   },
   "file_extension": ".py",
   "mimetype": "text/x-python",
   "name": "python",
   "nbconvert_exporter": "python",
   "pygments_lexer": "ipython3",
   "version": "3.7.2"
  }
 },
 "nbformat": 4,
 "nbformat_minor": 2
}
